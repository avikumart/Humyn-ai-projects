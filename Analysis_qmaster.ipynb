{
 "cells": [
  {
   "cell_type": "code",
   "execution_count": 1,
   "id": "e7aadce3-b3b8-4a98-a8fd-4a785f2e4b61",
   "metadata": {},
   "outputs": [],
   "source": [
    "import pandas as pd\n",
    "import glob\n",
    "import os"
   ]
  },
  {
   "cell_type": "code",
   "execution_count": 115,
   "id": "3698d315",
   "metadata": {},
   "outputs": [],
   "source": [
    "import matplotlib.pyplot as plt\n",
    "import seaborn as sns\n",
    "import numpy as np"
   ]
  },
  {
   "cell_type": "code",
   "execution_count": 3,
   "id": "3a64000c-2297-421a-ac1a-421e6a493178",
   "metadata": {},
   "outputs": [],
   "source": [
    "# Load data\n",
    "def load_reports(directory_path):\n",
    "    csv_files = glob.glob(os.path.join(directory_path, \"*Report.csv\"))\n",
    "    reports = []\n",
    "    for file in csv_files:\n",
    "        reports.append(pd.read_csv(file, index_col=0, low_memory=False))\n",
    "    return pd.concat(reports, ignore_index=True)\n",
    "\n",
    "\n",
    "qmastor_rail_data_dump = pd.read_csv(\".\\data\\QMASTOR rail data dump.csv\", low_memory=False, index_col=0)\n",
    "reports = load_reports(\"data\")"
   ]
  },
  {
   "cell_type": "code",
   "execution_count": 4,
   "id": "3140030f",
   "metadata": {},
   "outputs": [
    {
     "data": {
      "text/html": [
       "<div>\n",
       "<style scoped>\n",
       "    .dataframe tbody tr th:only-of-type {\n",
       "        vertical-align: middle;\n",
       "    }\n",
       "\n",
       "    .dataframe tbody tr th {\n",
       "        vertical-align: top;\n",
       "    }\n",
       "\n",
       "    .dataframe thead th {\n",
       "        text-align: right;\n",
       "    }\n",
       "</style>\n",
       "<table border=\"1\" class=\"dataframe\">\n",
       "  <thead>\n",
       "    <tr style=\"text-align: right;\">\n",
       "      <th></th>\n",
       "      <th>Date</th>\n",
       "      <th>Year</th>\n",
       "      <th>Month</th>\n",
       "      <th>Week_of_Year</th>\n",
       "      <th>Week_of_Month</th>\n",
       "      <th>BU_Name</th>\n",
       "      <th>SalesGrouping</th>\n",
       "      <th>Flow_Name</th>\n",
       "      <th>Flow_Source</th>\n",
       "      <th>Flow_Destination</th>\n",
       "      <th>...</th>\n",
       "      <th>THT</th>\n",
       "      <th>TFR Delay subtracted</th>\n",
       "      <th>TLT</th>\n",
       "      <th>Plan Note External</th>\n",
       "      <th>Act Note External</th>\n",
       "      <th>CX_Group</th>\n",
       "      <th>CX_Reason</th>\n",
       "      <th>Cancellation Notes</th>\n",
       "      <th>Actual Notes</th>\n",
       "      <th>FirstOfEntry_ID</th>\n",
       "    </tr>\n",
       "  </thead>\n",
       "  <tbody>\n",
       "    <tr>\n",
       "      <th>0</th>\n",
       "      <td>2009-01-01 00:00:00</td>\n",
       "      <td>2009</td>\n",
       "      <td>1</td>\n",
       "      <td>1</td>\n",
       "      <td>1</td>\n",
       "      <td>Location54</td>\n",
       "      <td>Exports</td>\n",
       "      <td>Location54 to Location125 FOR - Coking Coal</td>\n",
       "      <td>Location54</td>\n",
       "      <td>Location125</td>\n",
       "      <td>...</td>\n",
       "      <td>5.916667</td>\n",
       "      <td>0.0</td>\n",
       "      <td>4.583333</td>\n",
       "      <td>Train 8077865078 planned for 2009/01/02 arrive...</td>\n",
       "      <td>Train 8077865078 was planned for 2009/01/02 bu...</td>\n",
       "      <td>None</td>\n",
       "      <td>No Cancellation</td>\n",
       "      <td>None</td>\n",
       "      <td>NaN</td>\n",
       "      <td>1650</td>\n",
       "    </tr>\n",
       "    <tr>\n",
       "      <th>1</th>\n",
       "      <td>2009-01-01 00:00:00</td>\n",
       "      <td>2009</td>\n",
       "      <td>1</td>\n",
       "      <td>1</td>\n",
       "      <td>1</td>\n",
       "      <td>Location74</td>\n",
       "      <td>Domestic Clients</td>\n",
       "      <td>Location74 to Location73</td>\n",
       "      <td>Location74</td>\n",
       "      <td>Location76</td>\n",
       "      <td>...</td>\n",
       "      <td>NaN</td>\n",
       "      <td>0.0</td>\n",
       "      <td>NaN</td>\n",
       "      <td>Train did not run</td>\n",
       "      <td>NaN</td>\n",
       "      <td>None</td>\n",
       "      <td>No Cancellation</td>\n",
       "      <td>None</td>\n",
       "      <td>NaN</td>\n",
       "      <td>955</td>\n",
       "    </tr>\n",
       "    <tr>\n",
       "      <th>2</th>\n",
       "      <td>2009-01-01 00:00:00</td>\n",
       "      <td>2009</td>\n",
       "      <td>1</td>\n",
       "      <td>1</td>\n",
       "      <td>1</td>\n",
       "      <td>Location74</td>\n",
       "      <td>Domestic Clients</td>\n",
       "      <td>Location74 to Location160</td>\n",
       "      <td>Location74</td>\n",
       "      <td>Location176</td>\n",
       "      <td>...</td>\n",
       "      <td>NaN</td>\n",
       "      <td>0.0</td>\n",
       "      <td>NaN</td>\n",
       "      <td>Train did not run</td>\n",
       "      <td>NaN</td>\n",
       "      <td>None</td>\n",
       "      <td>No Cancellation</td>\n",
       "      <td>None</td>\n",
       "      <td>NaN</td>\n",
       "      <td>979</td>\n",
       "    </tr>\n",
       "    <tr>\n",
       "      <th>3</th>\n",
       "      <td>2009-01-01 00:00:00</td>\n",
       "      <td>2009</td>\n",
       "      <td>1</td>\n",
       "      <td>1</td>\n",
       "      <td>1</td>\n",
       "      <td>Location74</td>\n",
       "      <td>Location38</td>\n",
       "      <td>Location74 to Location82</td>\n",
       "      <td>Location74</td>\n",
       "      <td>Location82</td>\n",
       "      <td>...</td>\n",
       "      <td>1.416667</td>\n",
       "      <td>0.0</td>\n",
       "      <td>1.416667</td>\n",
       "      <td>NaN</td>\n",
       "      <td>Train was not planned</td>\n",
       "      <td>None</td>\n",
       "      <td>No Cancellation</td>\n",
       "      <td>None</td>\n",
       "      <td>NaN</td>\n",
       "      <td>910</td>\n",
       "    </tr>\n",
       "    <tr>\n",
       "      <th>4</th>\n",
       "      <td>2009-01-01 00:00:00</td>\n",
       "      <td>2009</td>\n",
       "      <td>1</td>\n",
       "      <td>1</td>\n",
       "      <td>1</td>\n",
       "      <td>Location74</td>\n",
       "      <td>Location38</td>\n",
       "      <td>Location74 to Location82</td>\n",
       "      <td>Location74</td>\n",
       "      <td>Location82</td>\n",
       "      <td>...</td>\n",
       "      <td>2.000000</td>\n",
       "      <td>0.0</td>\n",
       "      <td>2.000000</td>\n",
       "      <td>NaN</td>\n",
       "      <td>NaN</td>\n",
       "      <td>None</td>\n",
       "      <td>No Cancellation</td>\n",
       "      <td>None</td>\n",
       "      <td>NaN</td>\n",
       "      <td>909</td>\n",
       "    </tr>\n",
       "  </tbody>\n",
       "</table>\n",
       "<p>5 rows × 43 columns</p>\n",
       "</div>"
      ],
      "text/plain": [
       "                  Date  Year Month Week_of_Year Week_of_Month     BU_Name  \\\n",
       "0  2009-01-01 00:00:00  2009     1            1             1  Location54   \n",
       "1  2009-01-01 00:00:00  2009     1            1             1  Location74   \n",
       "2  2009-01-01 00:00:00  2009     1            1             1  Location74   \n",
       "3  2009-01-01 00:00:00  2009     1            1             1  Location74   \n",
       "4  2009-01-01 00:00:00  2009     1            1             1  Location74   \n",
       "\n",
       "      SalesGrouping                                    Flow_Name Flow_Source  \\\n",
       "0           Exports  Location54 to Location125 FOR - Coking Coal  Location54   \n",
       "1  Domestic Clients                     Location74 to Location73  Location74   \n",
       "2  Domestic Clients                    Location74 to Location160  Location74   \n",
       "3        Location38                     Location74 to Location82  Location74   \n",
       "4        Location38                     Location74 to Location82  Location74   \n",
       "\n",
       "  Flow_Destination  ...       THT TFR Delay subtracted       TLT  \\\n",
       "0      Location125  ...  5.916667                  0.0  4.583333   \n",
       "1       Location76  ...       NaN                  0.0       NaN   \n",
       "2      Location176  ...       NaN                  0.0       NaN   \n",
       "3       Location82  ...  1.416667                  0.0  1.416667   \n",
       "4       Location82  ...  2.000000                  0.0  2.000000   \n",
       "\n",
       "                                  Plan Note External  \\\n",
       "0  Train 8077865078 planned for 2009/01/02 arrive...   \n",
       "1                                  Train did not run   \n",
       "2                                  Train did not run   \n",
       "3                                                NaN   \n",
       "4                                                NaN   \n",
       "\n",
       "                                   Act Note External CX_Group  \\\n",
       "0  Train 8077865078 was planned for 2009/01/02 bu...     None   \n",
       "1                                                NaN     None   \n",
       "2                                                NaN     None   \n",
       "3                              Train was not planned     None   \n",
       "4                                                NaN     None   \n",
       "\n",
       "         CX_Reason Cancellation Notes Actual Notes FirstOfEntry_ID  \n",
       "0  No Cancellation               None          NaN            1650  \n",
       "1  No Cancellation               None          NaN             955  \n",
       "2  No Cancellation               None          NaN             979  \n",
       "3  No Cancellation               None          NaN             910  \n",
       "4  No Cancellation               None          NaN             909  \n",
       "\n",
       "[5 rows x 43 columns]"
      ]
     },
     "execution_count": 4,
     "metadata": {},
     "output_type": "execute_result"
    }
   ],
   "source": [
    "reports.head()"
   ]
  },
  {
   "cell_type": "code",
   "execution_count": 5,
   "id": "3b7357a0",
   "metadata": {},
   "outputs": [
    {
     "name": "stdout",
     "output_type": "stream",
     "text": [
      "<class 'pandas.core.frame.DataFrame'>\n",
      "RangeIndex: 34044 entries, 0 to 34043\n",
      "Data columns (total 43 columns):\n",
      " #   Column                Non-Null Count  Dtype  \n",
      "---  ------                --------------  -----  \n",
      " 0   Date                  34044 non-null  object \n",
      " 1   Year                  34044 non-null  object \n",
      " 2   Month                 34044 non-null  object \n",
      " 3   Week_of_Year          34044 non-null  object \n",
      " 4   Week_of_Month         34044 non-null  object \n",
      " 5   BU_Name               34044 non-null  object \n",
      " 6   SalesGrouping         34044 non-null  object \n",
      " 7   Flow_Name             34044 non-null  object \n",
      " 8   Flow_Source           34044 non-null  object \n",
      " 9   Flow_Destination      34044 non-null  object \n",
      " 10  SP_Name               34033 non-null  object \n",
      " 11  NWB Export Account    34044 non-null  object \n",
      " 12  NWB Exp Stockp        34040 non-null  object \n",
      " 13  Act_Acc_No            5289 non-null   float64\n",
      " 14  Act Export Account    34044 non-null  object \n",
      " 15  Act Exp Stockp        34044 non-null  object \n",
      " 16  BU Plan Date          34044 non-null  object \n",
      " 17  Actual Volume Date    34044 non-null  object \n",
      " 18  Train Status          34044 non-null  object \n",
      " 19  T1                    34044 non-null  object \n",
      " 20  SL                    34044 non-null  object \n",
      " 21  FL                    34044 non-null  object \n",
      " 22  T2                    34044 non-null  object \n",
      " 23  Rail_ConsignmentNo    25246 non-null  object \n",
      " 24  RBCT_ConsignmentNo    9804 non-null   object \n",
      " 25  Wagon_Type            34031 non-null  object \n",
      " 26  CNWB_Volume           34002 non-null  float64\n",
      " 27  Act_Volume            34029 non-null  float64\n",
      " 28  RBCT_IngoMass         34031 non-null  float64\n",
      " 29  Block_Load            34044 non-null  object \n",
      " 30  CNWB_Wagons           34008 non-null  float64\n",
      " 31  Act_Wagons            34035 non-null  float64\n",
      " 32  Source_TAT_SD         34044 non-null  float64\n",
      " 33  THT                   25228 non-null  float64\n",
      " 34  TFR Delay subtracted  34044 non-null  float64\n",
      " 35  TLT                   25234 non-null  float64\n",
      " 36  Plan Note External    18260 non-null  object \n",
      " 37  Act Note External     14363 non-null  object \n",
      " 38  CX_Group              34036 non-null  object \n",
      " 39  CX_Reason             34036 non-null  object \n",
      " 40  Cancellation Notes    34044 non-null  object \n",
      " 41  Actual Notes          26462 non-null  object \n",
      " 42  FirstOfEntry_ID       34044 non-null  object \n",
      "dtypes: float64(10), object(33)\n",
      "memory usage: 11.2+ MB\n"
     ]
    }
   ],
   "source": [
    "reports.info()"
   ]
  },
  {
   "cell_type": "code",
   "execution_count": 6,
   "id": "e4b99c91-c403-4c09-b67e-b043ffb2c828",
   "metadata": {},
   "outputs": [
    {
     "data": {
      "text/plain": [
       "2013    3506\n",
       "2010    3479\n",
       "2011    3335\n",
       "2012    3273\n",
       "2014    3187\n",
       "2009    3070\n",
       "2019    2966\n",
       "2017    2662\n",
       "2018    2483\n",
       "2015    2475\n",
       "2016    2376\n",
       "2020    1232\n",
       "Name: Year, dtype: int64"
      ]
     },
     "execution_count": 6,
     "metadata": {},
     "output_type": "execute_result"
    }
   ],
   "source": [
    "# Analysis\n",
    "reports['Year'].value_counts()"
   ]
  },
  {
   "cell_type": "code",
   "execution_count": 7,
   "id": "8279e04b",
   "metadata": {},
   "outputs": [
    {
     "name": "stdout",
     "output_type": "stream",
     "text": [
      "<class 'pandas.core.frame.DataFrame'>\n",
      "Int64Index: 427419 entries, 0 to 427418\n",
      "Data columns (total 28 columns):\n",
      " #   Column                                  Non-Null Count   Dtype  \n",
      "---  ------                                  --------------   -----  \n",
      " 0   CargoMovementID                         427419 non-null  int64  \n",
      " 1   CargoMovementName                       427296 non-null  object \n",
      " 2   BU                                      427371 non-null  object \n",
      " 3   Customer                                424752 non-null  object \n",
      " 4   Route                                   125247 non-null  object \n",
      " 5   NWB trains.NWBPreliminaryDate           427419 non-null  object \n",
      " 6   NWB trains.NWBConfirmedDate             427419 non-null  object \n",
      " 7   THTs.T1                                 427419 non-null  object \n",
      " 8   THTs.SL                                 427419 non-null  object \n",
      " 9   THTs.FL                                 427419 non-null  object \n",
      " 10  THTs.T2                                 427419 non-null  object \n",
      " 11  THTs.Departed                           427419 non-null  object \n",
      " 12  CargoMovementStartDate                  427419 non-null  object \n",
      " 13  CargoMovementEndDate                    427419 non-null  object \n",
      " 14  Destination.DestinationTransactionDate  427419 non-null  object \n",
      " 15  NWB trains.SourceTransactionQuantity    122047 non-null  float64\n",
      " 16  Destination.DestinationQuantSum         140257 non-null  float64\n",
      " 17  Destination.Split                       140257 non-null  float64\n",
      " 18  Consignment                             414437 non-null  object \n",
      " 19  Cancelled.ReasonGroup                   6739 non-null    object \n",
      " 20  Cancelled.ReasonSubgroup                6739 non-null    object \n",
      " 21  Cancelled.ReasonCode                    6739 non-null    object \n",
      " 22  Wagons.Planned                          102745 non-null  float64\n",
      " 23  Wagons.Actual                           406913 non-null  float64\n",
      " 24  Wagons.Tipped                           1141 non-null    float64\n",
      " 25  Wagons.Bypassed                         97 non-null      float64\n",
      " 26  Wagons.DTK                              0 non-null       float64\n",
      " 27  Wagons.Tonnes                           406913 non-null  float64\n",
      "dtypes: float64(9), int64(1), object(18)\n",
      "memory usage: 94.6+ MB\n"
     ]
    }
   ],
   "source": [
    "# metadata of qmaster dataset\n",
    "qmastor_rail_data_dump.info()"
   ]
  },
  {
   "cell_type": "markdown",
   "id": "5d65829b",
   "metadata": {},
   "source": [
    "### Are both datasets same or can be joined?"
   ]
  },
  {
   "cell_type": "code",
   "execution_count": 8,
   "id": "cd1b7fe9",
   "metadata": {},
   "outputs": [
    {
     "data": {
      "text/plain": [
       "0                               NaN\n",
       "1         Location190 to Location82\n",
       "2         Location190 to Location82\n",
       "3         Location190 to Location82\n",
       "4         Location190 to Location82\n",
       "                    ...            \n",
       "427414                          NaN\n",
       "427415    Location74 to Location125\n",
       "427416    Location74 to Location125\n",
       "427417                          NaN\n",
       "427418                          NaN\n",
       "Name: Route, Length: 427419, dtype: object"
      ]
     },
     "execution_count": 8,
     "metadata": {},
     "output_type": "execute_result"
    }
   ],
   "source": [
    "qmastor_rail_data_dump['Route']"
   ]
  },
  {
   "cell_type": "code",
   "execution_count": 9,
   "id": "d25a0b87",
   "metadata": {},
   "outputs": [
    {
     "data": {
      "text/plain": [
       "0          Location54 to Location125 FOR - Coking Coal\n",
       "1                             Location74 to Location73\n",
       "2                            Location74 to Location160\n",
       "3                             Location74 to Location82\n",
       "4                             Location74 to Location82\n",
       "                             ...                      \n",
       "34039      Location47 to Location125 (Location205 LTA)\n",
       "34040    Location54 to Location125 (Location40 WB LTA)\n",
       "34041    Location54 to Location125 (Location40 WB LTA)\n",
       "34042    Location74 to Location125 (Location40 MP LTA)\n",
       "34043    Location74 to Location125 (Location40 MP LTA)\n",
       "Name: Flow_Name, Length: 34044, dtype: object"
      ]
     },
     "execution_count": 9,
     "metadata": {},
     "output_type": "execute_result"
    }
   ],
   "source": [
    "reports['Flow_Name']"
   ]
  },
  {
   "cell_type": "markdown",
   "id": "64be69de",
   "metadata": {},
   "source": [
    "- Both datasets are having different locations, so they are different datasets"
   ]
  },
  {
   "cell_type": "markdown",
   "id": "b9752bb3",
   "metadata": {},
   "source": [
    "- **Check out the duplicate rows**"
   ]
  },
  {
   "cell_type": "code",
   "execution_count": 58,
   "id": "f678f1e8",
   "metadata": {},
   "outputs": [
    {
     "data": {
      "text/plain": [
       "False    237156\n",
       "True     190263\n",
       "dtype: int64"
      ]
     },
     "execution_count": 58,
     "metadata": {},
     "output_type": "execute_result"
    }
   ],
   "source": [
    "qmastor_rail_data_dump.duplicated().value_counts()"
   ]
  },
  {
   "cell_type": "code",
   "execution_count": 60,
   "id": "15085e8f",
   "metadata": {},
   "outputs": [],
   "source": [
    "qmastor_rail_data_dump = qmastor_rail_data_dump.drop_duplicates(keep='last')"
   ]
  },
  {
   "cell_type": "code",
   "execution_count": 62,
   "id": "cdd7261a",
   "metadata": {},
   "outputs": [
    {
     "data": {
      "text/plain": [
       "False    34044\n",
       "dtype: int64"
      ]
     },
     "execution_count": 62,
     "metadata": {},
     "output_type": "execute_result"
    }
   ],
   "source": [
    "reports.duplicated().value_counts()"
   ]
  },
  {
   "cell_type": "markdown",
   "id": "726dfe4e",
   "metadata": {},
   "source": [
    "- There is no duplicates in reports df while qmaster dataset has many duplicates"
   ]
  },
  {
   "cell_type": "markdown",
   "id": "e3746627",
   "metadata": {},
   "source": [
    "## QMASTER data analysis"
   ]
  },
  {
   "cell_type": "code",
   "execution_count": 63,
   "id": "f357e41c",
   "metadata": {},
   "outputs": [],
   "source": [
    "# crete a subdataframe of important features and drop non-essential features\n",
    "qmaster = qmastor_rail_data_dump.drop(columns=['CargoMovementID','CargoMovementName','Cancelled.ReasonCode','Wagons.DTK'])"
   ]
  },
  {
   "cell_type": "code",
   "execution_count": 64,
   "id": "f80940ce",
   "metadata": {},
   "outputs": [
    {
     "data": {
      "text/html": [
       "<div>\n",
       "<style scoped>\n",
       "    .dataframe tbody tr th:only-of-type {\n",
       "        vertical-align: middle;\n",
       "    }\n",
       "\n",
       "    .dataframe tbody tr th {\n",
       "        vertical-align: top;\n",
       "    }\n",
       "\n",
       "    .dataframe thead th {\n",
       "        text-align: right;\n",
       "    }\n",
       "</style>\n",
       "<table border=\"1\" class=\"dataframe\">\n",
       "  <thead>\n",
       "    <tr style=\"text-align: right;\">\n",
       "      <th></th>\n",
       "      <th>BU</th>\n",
       "      <th>Customer</th>\n",
       "      <th>Route</th>\n",
       "      <th>NWB trains.NWBPreliminaryDate</th>\n",
       "      <th>NWB trains.NWBConfirmedDate</th>\n",
       "      <th>THTs.T1</th>\n",
       "      <th>THTs.SL</th>\n",
       "      <th>THTs.FL</th>\n",
       "      <th>THTs.T2</th>\n",
       "      <th>THTs.Departed</th>\n",
       "      <th>...</th>\n",
       "      <th>Destination.DestinationQuantSum</th>\n",
       "      <th>Destination.Split</th>\n",
       "      <th>Consignment</th>\n",
       "      <th>Cancelled.ReasonGroup</th>\n",
       "      <th>Cancelled.ReasonSubgroup</th>\n",
       "      <th>Wagons.Planned</th>\n",
       "      <th>Wagons.Actual</th>\n",
       "      <th>Wagons.Tipped</th>\n",
       "      <th>Wagons.Bypassed</th>\n",
       "      <th>Wagons.Tonnes</th>\n",
       "    </tr>\n",
       "  </thead>\n",
       "  <tbody>\n",
       "    <tr>\n",
       "      <th>0</th>\n",
       "      <td>Location74 Location194 Coal</td>\n",
       "      <td>Location34</td>\n",
       "      <td>NaN</td>\n",
       "      <td>NaT</td>\n",
       "      <td>NaT</td>\n",
       "      <td>NaT</td>\n",
       "      <td>NaT</td>\n",
       "      <td>NaT</td>\n",
       "      <td>NaT</td>\n",
       "      <td>NaT</td>\n",
       "      <td>...</td>\n",
       "      <td>NaN</td>\n",
       "      <td>NaN</td>\n",
       "      <td>NaN</td>\n",
       "      <td>NaN</td>\n",
       "      <td>NaN</td>\n",
       "      <td>NaN</td>\n",
       "      <td>NaN</td>\n",
       "      <td>NaN</td>\n",
       "      <td>NaN</td>\n",
       "      <td>NaN</td>\n",
       "    </tr>\n",
       "    <tr>\n",
       "      <th>6</th>\n",
       "      <td>Location74 Location194 Coal</td>\n",
       "      <td>Location62</td>\n",
       "      <td>Location190 to Location82</td>\n",
       "      <td>NaT</td>\n",
       "      <td>NaT</td>\n",
       "      <td>2011-09-13 16:45:00</td>\n",
       "      <td>2011-09-13 18:45:00</td>\n",
       "      <td>2011-09-13 22:45:00</td>\n",
       "      <td>2011-09-13 23:45:00</td>\n",
       "      <td>NaT</td>\n",
       "      <td>...</td>\n",
       "      <td>NaN</td>\n",
       "      <td>NaN</td>\n",
       "      <td>8082367791</td>\n",
       "      <td>NaN</td>\n",
       "      <td>NaN</td>\n",
       "      <td>NaN</td>\n",
       "      <td>6.0</td>\n",
       "      <td>NaN</td>\n",
       "      <td>NaN</td>\n",
       "      <td>1000.00</td>\n",
       "    </tr>\n",
       "    <tr>\n",
       "      <th>7</th>\n",
       "      <td>Location63 Location194 Coal</td>\n",
       "      <td>Location37</td>\n",
       "      <td>Location191 to Location125 (Location209)</td>\n",
       "      <td>NaT</td>\n",
       "      <td>NaT</td>\n",
       "      <td>2011-09-17 08:10:00</td>\n",
       "      <td>2011-09-17 08:30:00</td>\n",
       "      <td>2011-09-17 13:00:00</td>\n",
       "      <td>2011-09-17 13:05:00</td>\n",
       "      <td>2011-09-17 15:20:00</td>\n",
       "      <td>...</td>\n",
       "      <td>8173.0</td>\n",
       "      <td>1.0</td>\n",
       "      <td>8082991066</td>\n",
       "      <td>NaN</td>\n",
       "      <td>NaN</td>\n",
       "      <td>NaN</td>\n",
       "      <td>98.0</td>\n",
       "      <td>NaN</td>\n",
       "      <td>NaN</td>\n",
       "      <td>84.22</td>\n",
       "    </tr>\n",
       "    <tr>\n",
       "      <th>8</th>\n",
       "      <td>Location63 Location194 Coal</td>\n",
       "      <td>Location37</td>\n",
       "      <td>Location191 to Location125 (Location209)</td>\n",
       "      <td>NaT</td>\n",
       "      <td>NaT</td>\n",
       "      <td>2011-09-17 08:10:00</td>\n",
       "      <td>2011-09-17 08:30:00</td>\n",
       "      <td>2011-09-17 13:00:00</td>\n",
       "      <td>2011-09-17 13:05:00</td>\n",
       "      <td>2011-09-17 15:20:00</td>\n",
       "      <td>...</td>\n",
       "      <td>8173.0</td>\n",
       "      <td>1.0</td>\n",
       "      <td>8082991066</td>\n",
       "      <td>NaN</td>\n",
       "      <td>NaN</td>\n",
       "      <td>NaN</td>\n",
       "      <td>98.0</td>\n",
       "      <td>NaN</td>\n",
       "      <td>NaN</td>\n",
       "      <td>81.12</td>\n",
       "    </tr>\n",
       "    <tr>\n",
       "      <th>9</th>\n",
       "      <td>Location63 Location194 Coal</td>\n",
       "      <td>Location37</td>\n",
       "      <td>Location191 to Location125 (Location209)</td>\n",
       "      <td>NaT</td>\n",
       "      <td>NaT</td>\n",
       "      <td>2011-09-17 08:10:00</td>\n",
       "      <td>2011-09-17 08:30:00</td>\n",
       "      <td>2011-09-17 13:00:00</td>\n",
       "      <td>2011-09-17 13:05:00</td>\n",
       "      <td>2011-09-17 15:20:00</td>\n",
       "      <td>...</td>\n",
       "      <td>8173.0</td>\n",
       "      <td>1.0</td>\n",
       "      <td>8082991066</td>\n",
       "      <td>NaN</td>\n",
       "      <td>NaN</td>\n",
       "      <td>NaN</td>\n",
       "      <td>98.0</td>\n",
       "      <td>NaN</td>\n",
       "      <td>NaN</td>\n",
       "      <td>80.66</td>\n",
       "    </tr>\n",
       "  </tbody>\n",
       "</table>\n",
       "<p>5 rows × 24 columns</p>\n",
       "</div>"
      ],
      "text/plain": [
       "                            BU    Customer  \\\n",
       "0  Location74 Location194 Coal  Location34   \n",
       "6  Location74 Location194 Coal  Location62   \n",
       "7  Location63 Location194 Coal  Location37   \n",
       "8  Location63 Location194 Coal  Location37   \n",
       "9  Location63 Location194 Coal  Location37   \n",
       "\n",
       "                                      Route NWB trains.NWBPreliminaryDate  \\\n",
       "0                                       NaN                           NaT   \n",
       "6                 Location190 to Location82                           NaT   \n",
       "7  Location191 to Location125 (Location209)                           NaT   \n",
       "8  Location191 to Location125 (Location209)                           NaT   \n",
       "9  Location191 to Location125 (Location209)                           NaT   \n",
       "\n",
       "  NWB trains.NWBConfirmedDate              THTs.T1              THTs.SL  \\\n",
       "0                         NaT                  NaT                  NaT   \n",
       "6                         NaT  2011-09-13 16:45:00  2011-09-13 18:45:00   \n",
       "7                         NaT  2011-09-17 08:10:00  2011-09-17 08:30:00   \n",
       "8                         NaT  2011-09-17 08:10:00  2011-09-17 08:30:00   \n",
       "9                         NaT  2011-09-17 08:10:00  2011-09-17 08:30:00   \n",
       "\n",
       "               THTs.FL              THTs.T2        THTs.Departed  ...  \\\n",
       "0                  NaT                  NaT                  NaT  ...   \n",
       "6  2011-09-13 22:45:00  2011-09-13 23:45:00                  NaT  ...   \n",
       "7  2011-09-17 13:00:00  2011-09-17 13:05:00  2011-09-17 15:20:00  ...   \n",
       "8  2011-09-17 13:00:00  2011-09-17 13:05:00  2011-09-17 15:20:00  ...   \n",
       "9  2011-09-17 13:00:00  2011-09-17 13:05:00  2011-09-17 15:20:00  ...   \n",
       "\n",
       "  Destination.DestinationQuantSum Destination.Split Consignment  \\\n",
       "0                             NaN               NaN         NaN   \n",
       "6                             NaN               NaN  8082367791   \n",
       "7                          8173.0               1.0  8082991066   \n",
       "8                          8173.0               1.0  8082991066   \n",
       "9                          8173.0               1.0  8082991066   \n",
       "\n",
       "   Cancelled.ReasonGroup  Cancelled.ReasonSubgroup  Wagons.Planned  \\\n",
       "0                    NaN                       NaN             NaN   \n",
       "6                    NaN                       NaN             NaN   \n",
       "7                    NaN                       NaN             NaN   \n",
       "8                    NaN                       NaN             NaN   \n",
       "9                    NaN                       NaN             NaN   \n",
       "\n",
       "  Wagons.Actual Wagons.Tipped Wagons.Bypassed  Wagons.Tonnes  \n",
       "0           NaN           NaN             NaN            NaN  \n",
       "6           6.0           NaN             NaN        1000.00  \n",
       "7          98.0           NaN             NaN          84.22  \n",
       "8          98.0           NaN             NaN          81.12  \n",
       "9          98.0           NaN             NaN          80.66  \n",
       "\n",
       "[5 rows x 24 columns]"
      ]
     },
     "execution_count": 64,
     "metadata": {},
     "output_type": "execute_result"
    }
   ],
   "source": [
    "qmaster.head()"
   ]
  },
  {
   "cell_type": "markdown",
   "id": "40052722",
   "metadata": {},
   "source": [
    "### Univariate analysis"
   ]
  },
  {
   "cell_type": "code",
   "execution_count": 65,
   "id": "4124a598",
   "metadata": {},
   "outputs": [
    {
     "data": {
      "text/plain": [
       "Cancelled                             5219\n",
       "Location172 NO Prelim                   18\n",
       "Location172 No Prelim-Not Approved       4\n",
       "Location172 Decline                      2\n",
       "Name: Cancelled.ReasonGroup, dtype: int64"
      ]
     },
     "execution_count": 65,
     "metadata": {},
     "output_type": "execute_result"
    }
   ],
   "source": [
    "# cancellation reasons\n",
    "qmastor_rail_data_dump['Cancelled.ReasonGroup'].value_counts()"
   ]
  },
  {
   "cell_type": "code",
   "execution_count": 66,
   "id": "94eb9ab5",
   "metadata": {},
   "outputs": [
    {
     "data": {
      "text/plain": [
       "Location172    3764\n",
       "BU              745\n",
       "Client          582\n",
       "Marketing        80\n",
       "Location38       30\n",
       "Location125      29\n",
       "Logistics        13\n",
       "Name: Cancelled.ReasonSubgroup, dtype: int64"
      ]
     },
     "execution_count": 66,
     "metadata": {},
     "output_type": "execute_result"
    }
   ],
   "source": [
    "# cancellation sub reasons\n",
    "qmastor_rail_data_dump['Cancelled.ReasonSubgroup'].value_counts()"
   ]
  },
  {
   "cell_type": "code",
   "execution_count": 67,
   "id": "59a2f351",
   "metadata": {},
   "outputs": [
    {
     "data": {
      "text/plain": [
       "1.0    76041\n",
       "2.0     2364\n",
       "3.0       25\n",
       "Name: Destination.Split, dtype: int64"
      ]
     },
     "execution_count": 67,
     "metadata": {},
     "output_type": "execute_result"
    }
   ],
   "source": [
    "# how many items were loaded \n",
    "qmastor_rail_data_dump['Destination.Split'].value_counts()"
   ]
  },
  {
   "cell_type": "markdown",
   "id": "e7c5bc19",
   "metadata": {},
   "source": [
    "- Most of the trains are carrying only 1 item while there trains which are caryying 2 or 3 number of items in some cases"
   ]
  },
  {
   "cell_type": "code",
   "execution_count": 68,
   "id": "b3e7256e",
   "metadata": {},
   "outputs": [
    {
     "data": {
      "text/html": [
       "<div>\n",
       "<style scoped>\n",
       "    .dataframe tbody tr th:only-of-type {\n",
       "        vertical-align: middle;\n",
       "    }\n",
       "\n",
       "    .dataframe tbody tr th {\n",
       "        vertical-align: top;\n",
       "    }\n",
       "\n",
       "    .dataframe thead th {\n",
       "        text-align: right;\n",
       "    }\n",
       "</style>\n",
       "<table border=\"1\" class=\"dataframe\">\n",
       "  <thead>\n",
       "    <tr style=\"text-align: right;\">\n",
       "      <th></th>\n",
       "      <th>Wagons.Planned</th>\n",
       "      <th>Wagons.Actual</th>\n",
       "      <th>Wagons.Tonnes</th>\n",
       "    </tr>\n",
       "  </thead>\n",
       "  <tbody>\n",
       "    <tr>\n",
       "      <th>count</th>\n",
       "      <td>73573.000000</td>\n",
       "      <td>216650.000000</td>\n",
       "      <td>216650.000000</td>\n",
       "    </tr>\n",
       "    <tr>\n",
       "      <th>mean</th>\n",
       "      <td>76.612521</td>\n",
       "      <td>73.327607</td>\n",
       "      <td>181.568266</td>\n",
       "    </tr>\n",
       "    <tr>\n",
       "      <th>std</th>\n",
       "      <td>58.838068</td>\n",
       "      <td>23.070124</td>\n",
       "      <td>802.864418</td>\n",
       "    </tr>\n",
       "    <tr>\n",
       "      <th>min</th>\n",
       "      <td>0.000000</td>\n",
       "      <td>1.000000</td>\n",
       "      <td>0.000000</td>\n",
       "    </tr>\n",
       "    <tr>\n",
       "      <th>25%</th>\n",
       "      <td>73.000000</td>\n",
       "      <td>50.000000</td>\n",
       "      <td>54.490000</td>\n",
       "    </tr>\n",
       "    <tr>\n",
       "      <th>50%</th>\n",
       "      <td>75.000000</td>\n",
       "      <td>75.000000</td>\n",
       "      <td>58.350000</td>\n",
       "    </tr>\n",
       "    <tr>\n",
       "      <th>75%</th>\n",
       "      <td>100.000000</td>\n",
       "      <td>99.000000</td>\n",
       "      <td>59.688000</td>\n",
       "    </tr>\n",
       "    <tr>\n",
       "      <th>max</th>\n",
       "      <td>8400.000000</td>\n",
       "      <td>200.000000</td>\n",
       "      <td>59930.160000</td>\n",
       "    </tr>\n",
       "  </tbody>\n",
       "</table>\n",
       "</div>"
      ],
      "text/plain": [
       "       Wagons.Planned  Wagons.Actual  Wagons.Tonnes\n",
       "count    73573.000000  216650.000000  216650.000000\n",
       "mean        76.612521      73.327607     181.568266\n",
       "std         58.838068      23.070124     802.864418\n",
       "min          0.000000       1.000000       0.000000\n",
       "25%         73.000000      50.000000      54.490000\n",
       "50%         75.000000      75.000000      58.350000\n",
       "75%        100.000000      99.000000      59.688000\n",
       "max       8400.000000     200.000000   59930.160000"
      ]
     },
     "execution_count": 68,
     "metadata": {},
     "output_type": "execute_result"
    }
   ],
   "source": [
    "qmastor_rail_data_dump[['Wagons.Planned','Wagons.Actual','Wagons.Tonnes']].describe()"
   ]
  },
  {
   "cell_type": "markdown",
   "id": "1e198085",
   "metadata": {},
   "source": [
    "- There's very lesss deviation in planned vs actual wagons with some exceptions"
   ]
  },
  {
   "cell_type": "code",
   "execution_count": 70,
   "id": "72ffe3aa",
   "metadata": {},
   "outputs": [
    {
     "data": {
      "text/plain": [
       "Location54 Location194 Coal              145527\n",
       "Location74 Location194 Coal               63495\n",
       "Location63 Location194 Coal               21494\n",
       "Location80 Location194 Coal                2771\n",
       "Location13                                 1213\n",
       "Location40 HQP                             1101\n",
       "Location47 North                            610\n",
       "Location22 East                             552\n",
       "Location105 Location194 Coal                329\n",
       "Location40 International Trading AG           9\n",
       "Location103 Location194 Coal                  3\n",
       "Location40 International Trading B.V.         3\n",
       "Location182                                   1\n",
       "Name: BU, dtype: int64"
      ]
     },
     "execution_count": 70,
     "metadata": {},
     "output_type": "execute_result"
    }
   ],
   "source": [
    "qmaster['BU'].value_counts()"
   ]
  },
  {
   "cell_type": "code",
   "execution_count": 71,
   "id": "6fb4cf91",
   "metadata": {},
   "outputs": [
    {
     "data": {
      "text/plain": [
       "Location35 EITAG    45976\n",
       "Location37          33156\n",
       "Location5           28589\n",
       "Location4           27076\n",
       "Location34          23920\n",
       "                    ...  \n",
       "Location61              1\n",
       "Location62              1\n",
       "Location66              1\n",
       "Location178             1\n",
       "Location7               1\n",
       "Name: Customer, Length: 66, dtype: int64"
      ]
     },
     "execution_count": 71,
     "metadata": {},
     "output_type": "execute_result"
    }
   ],
   "source": [
    "qmaster['Customer'].value_counts()"
   ]
  },
  {
   "cell_type": "code",
   "execution_count": 72,
   "id": "cee27e6d",
   "metadata": {},
   "outputs": [
    {
     "data": {
      "text/plain": [
       "Location54 to Location125 Delivered - Coking Coal      22715\n",
       "Location193 to Location92                               9587\n",
       "Location193 to Location97                               8806\n",
       "Location193 to Location95                               7054\n",
       "Location193 to Location96                               6610\n",
       "                                                       ...  \n",
       "Location74 to Location195                                  1\n",
       "Location74 to Location213 Location212 (Location203)        1\n",
       "Location193 Location162 to Location125                     1\n",
       "Location54 to Location14                                   1\n",
       "Location63 to Location83 (Location199)                     1\n",
       "Name: Route, Length: 72, dtype: int64"
      ]
     },
     "execution_count": 72,
     "metadata": {},
     "output_type": "execute_result"
    }
   ],
   "source": [
    "qmaster['Route'].value_counts()"
   ]
  },
  {
   "cell_type": "code",
   "execution_count": 73,
   "id": "becabc71",
   "metadata": {},
   "outputs": [
    {
     "data": {
      "text/plain": [
       "8084168924    194\n",
       "8086937632    190\n",
       "8083408063    185\n",
       "8087001866    184\n",
       "8084106105    170\n",
       "             ... \n",
       "8091088811      1\n",
       "8091169199      1\n",
       "8091169213      1\n",
       "8091169287      1\n",
       "8097774682      1\n",
       "Name: Consignment, Length: 20581, dtype: int64"
      ]
     },
     "execution_count": 73,
     "metadata": {},
     "output_type": "execute_result"
    }
   ],
   "source": [
    "qmaster['Consignment'].value_counts()"
   ]
  },
  {
   "cell_type": "markdown",
   "id": "e18c14e0",
   "metadata": {},
   "source": [
    "1. Find out the difference between preliminary date and actual date when train will run"
   ]
  },
  {
   "cell_type": "code",
   "execution_count": 74,
   "id": "993f8907",
   "metadata": {},
   "outputs": [],
   "source": [
    "# convert object cols into datetime\n",
    "qmaster['NWB trains.NWBPreliminaryDate'] = pd.to_datetime(qmaster['NWB trains.NWBPreliminaryDate'])\n",
    "qmaster['NWB trains.NWBConfirmedDate'] = pd.to_datetime(qmaster['NWB trains.NWBConfirmedDate'])\n"
   ]
  },
  {
   "cell_type": "code",
   "execution_count": 75,
   "id": "708e9bdb",
   "metadata": {},
   "outputs": [],
   "source": [
    "# see if there's diff in preliminary and confirm date\n",
    "qmaster['start_diff'] = qmaster['NWB trains.NWBPreliminaryDate'] < qmaster['NWB trains.NWBConfirmedDate'] "
   ]
  },
  {
   "cell_type": "code",
   "execution_count": 76,
   "id": "b2324b1e",
   "metadata": {},
   "outputs": [
    {
     "data": {
      "text/plain": [
       "False    230148\n",
       "True       7008\n",
       "Name: start_diff, dtype: int64"
      ]
     },
     "execution_count": 76,
     "metadata": {},
     "output_type": "execute_result"
    }
   ],
   "source": [
    "qmaster['start_diff'].value_counts()"
   ]
  },
  {
   "cell_type": "code",
   "execution_count": 77,
   "id": "b827f3ff",
   "metadata": {},
   "outputs": [
    {
     "data": {
      "text/html": [
       "<div>\n",
       "<style scoped>\n",
       "    .dataframe tbody tr th:only-of-type {\n",
       "        vertical-align: middle;\n",
       "    }\n",
       "\n",
       "    .dataframe tbody tr th {\n",
       "        vertical-align: top;\n",
       "    }\n",
       "\n",
       "    .dataframe thead th {\n",
       "        text-align: right;\n",
       "    }\n",
       "</style>\n",
       "<table border=\"1\" class=\"dataframe\">\n",
       "  <thead>\n",
       "    <tr style=\"text-align: right;\">\n",
       "      <th></th>\n",
       "      <th>NWB trains.NWBPreliminaryDate</th>\n",
       "      <th>NWB trains.NWBConfirmedDate</th>\n",
       "    </tr>\n",
       "  </thead>\n",
       "  <tbody>\n",
       "    <tr>\n",
       "      <th>167354</th>\n",
       "      <td>2013-11-24 14:27:00</td>\n",
       "      <td>2013-11-24 15:00:00</td>\n",
       "    </tr>\n",
       "    <tr>\n",
       "      <th>169160</th>\n",
       "      <td>2013-11-30 10:32:00</td>\n",
       "      <td>2013-12-01 00:00:00</td>\n",
       "    </tr>\n",
       "    <tr>\n",
       "      <th>203087</th>\n",
       "      <td>2014-04-07 00:00:00</td>\n",
       "      <td>2014-04-13 00:00:00</td>\n",
       "    </tr>\n",
       "    <tr>\n",
       "      <th>203088</th>\n",
       "      <td>2014-04-09 00:00:00</td>\n",
       "      <td>2014-04-14 00:00:00</td>\n",
       "    </tr>\n",
       "    <tr>\n",
       "      <th>203089</th>\n",
       "      <td>2014-04-10 00:00:00</td>\n",
       "      <td>2014-04-15 00:00:00</td>\n",
       "    </tr>\n",
       "    <tr>\n",
       "      <th>...</th>\n",
       "      <td>...</td>\n",
       "      <td>...</td>\n",
       "    </tr>\n",
       "    <tr>\n",
       "      <th>427076</th>\n",
       "      <td>2023-04-19 00:00:00</td>\n",
       "      <td>2023-04-21 19:03:00</td>\n",
       "    </tr>\n",
       "    <tr>\n",
       "      <th>427090</th>\n",
       "      <td>2023-04-27 12:00:00</td>\n",
       "      <td>2023-04-28 00:00:00</td>\n",
       "    </tr>\n",
       "    <tr>\n",
       "      <th>427091</th>\n",
       "      <td>2023-04-28 12:00:00</td>\n",
       "      <td>2023-04-29 00:00:00</td>\n",
       "    </tr>\n",
       "    <tr>\n",
       "      <th>427230</th>\n",
       "      <td>2023-05-31 12:00:00</td>\n",
       "      <td>2023-06-03 00:00:00</td>\n",
       "    </tr>\n",
       "    <tr>\n",
       "      <th>427369</th>\n",
       "      <td>2023-06-01 00:00:00</td>\n",
       "      <td>2023-06-02 00:00:00</td>\n",
       "    </tr>\n",
       "  </tbody>\n",
       "</table>\n",
       "<p>7008 rows × 2 columns</p>\n",
       "</div>"
      ],
      "text/plain": [
       "       NWB trains.NWBPreliminaryDate NWB trains.NWBConfirmedDate\n",
       "167354           2013-11-24 14:27:00         2013-11-24 15:00:00\n",
       "169160           2013-11-30 10:32:00         2013-12-01 00:00:00\n",
       "203087           2014-04-07 00:00:00         2014-04-13 00:00:00\n",
       "203088           2014-04-09 00:00:00         2014-04-14 00:00:00\n",
       "203089           2014-04-10 00:00:00         2014-04-15 00:00:00\n",
       "...                              ...                         ...\n",
       "427076           2023-04-19 00:00:00         2023-04-21 19:03:00\n",
       "427090           2023-04-27 12:00:00         2023-04-28 00:00:00\n",
       "427091           2023-04-28 12:00:00         2023-04-29 00:00:00\n",
       "427230           2023-05-31 12:00:00         2023-06-03 00:00:00\n",
       "427369           2023-06-01 00:00:00         2023-06-02 00:00:00\n",
       "\n",
       "[7008 rows x 2 columns]"
      ]
     },
     "execution_count": 77,
     "metadata": {},
     "output_type": "execute_result"
    }
   ],
   "source": [
    "qmaster[qmaster['start_diff'] == True][['NWB trains.NWBPreliminaryDate','NWB trains.NWBConfirmedDate']]"
   ]
  },
  {
   "cell_type": "markdown",
   "id": "71a2e282",
   "metadata": {},
   "source": [
    "- there are about 7008 trains which got delayed"
   ]
  },
  {
   "cell_type": "markdown",
   "id": "1f3d8eb4",
   "metadata": {},
   "source": [
    "2. Find out diff between cargo movement end date and actual arrival date at customer site"
   ]
  },
  {
   "cell_type": "code",
   "execution_count": 78,
   "id": "b72e66d8",
   "metadata": {},
   "outputs": [],
   "source": [
    "# convert object cols into datetime\n",
    "qmaster['CargoMovementEndDate'] = pd.to_datetime(qmaster['NWB trains.NWBPreliminaryDate'])\n",
    "qmaster['Destination.DestinationTransactionDate'] = pd.to_datetime(qmaster['NWB trains.NWBConfirmedDate'])"
   ]
  },
  {
   "cell_type": "code",
   "execution_count": 79,
   "id": "a3e797d3",
   "metadata": {},
   "outputs": [],
   "source": [
    "qmaster['end_diff'] = qmaster['CargoMovementEndDate'] < qmaster['Destination.DestinationTransactionDate'] "
   ]
  },
  {
   "cell_type": "code",
   "execution_count": 80,
   "id": "dd944ad7",
   "metadata": {},
   "outputs": [
    {
     "data": {
      "text/plain": [
       "False    230148\n",
       "True       7008\n",
       "Name: end_diff, dtype: int64"
      ]
     },
     "execution_count": 80,
     "metadata": {},
     "output_type": "execute_result"
    }
   ],
   "source": [
    "qmaster['end_diff'].value_counts()"
   ]
  },
  {
   "cell_type": "code",
   "execution_count": 81,
   "id": "91be4e7b",
   "metadata": {},
   "outputs": [
    {
     "data": {
      "text/html": [
       "<div>\n",
       "<style scoped>\n",
       "    .dataframe tbody tr th:only-of-type {\n",
       "        vertical-align: middle;\n",
       "    }\n",
       "\n",
       "    .dataframe tbody tr th {\n",
       "        vertical-align: top;\n",
       "    }\n",
       "\n",
       "    .dataframe thead th {\n",
       "        text-align: right;\n",
       "    }\n",
       "</style>\n",
       "<table border=\"1\" class=\"dataframe\">\n",
       "  <thead>\n",
       "    <tr style=\"text-align: right;\">\n",
       "      <th></th>\n",
       "      <th>CargoMovementEndDate</th>\n",
       "      <th>Destination.DestinationTransactionDate</th>\n",
       "    </tr>\n",
       "  </thead>\n",
       "  <tbody>\n",
       "    <tr>\n",
       "      <th>167354</th>\n",
       "      <td>2013-11-24 14:27:00</td>\n",
       "      <td>2013-11-24 15:00:00</td>\n",
       "    </tr>\n",
       "    <tr>\n",
       "      <th>169160</th>\n",
       "      <td>2013-11-30 10:32:00</td>\n",
       "      <td>2013-12-01 00:00:00</td>\n",
       "    </tr>\n",
       "    <tr>\n",
       "      <th>203087</th>\n",
       "      <td>2014-04-07 00:00:00</td>\n",
       "      <td>2014-04-13 00:00:00</td>\n",
       "    </tr>\n",
       "    <tr>\n",
       "      <th>203088</th>\n",
       "      <td>2014-04-09 00:00:00</td>\n",
       "      <td>2014-04-14 00:00:00</td>\n",
       "    </tr>\n",
       "    <tr>\n",
       "      <th>203089</th>\n",
       "      <td>2014-04-10 00:00:00</td>\n",
       "      <td>2014-04-15 00:00:00</td>\n",
       "    </tr>\n",
       "    <tr>\n",
       "      <th>...</th>\n",
       "      <td>...</td>\n",
       "      <td>...</td>\n",
       "    </tr>\n",
       "    <tr>\n",
       "      <th>427076</th>\n",
       "      <td>2023-04-19 00:00:00</td>\n",
       "      <td>2023-04-21 19:03:00</td>\n",
       "    </tr>\n",
       "    <tr>\n",
       "      <th>427090</th>\n",
       "      <td>2023-04-27 12:00:00</td>\n",
       "      <td>2023-04-28 00:00:00</td>\n",
       "    </tr>\n",
       "    <tr>\n",
       "      <th>427091</th>\n",
       "      <td>2023-04-28 12:00:00</td>\n",
       "      <td>2023-04-29 00:00:00</td>\n",
       "    </tr>\n",
       "    <tr>\n",
       "      <th>427230</th>\n",
       "      <td>2023-05-31 12:00:00</td>\n",
       "      <td>2023-06-03 00:00:00</td>\n",
       "    </tr>\n",
       "    <tr>\n",
       "      <th>427369</th>\n",
       "      <td>2023-06-01 00:00:00</td>\n",
       "      <td>2023-06-02 00:00:00</td>\n",
       "    </tr>\n",
       "  </tbody>\n",
       "</table>\n",
       "<p>7008 rows × 2 columns</p>\n",
       "</div>"
      ],
      "text/plain": [
       "       CargoMovementEndDate Destination.DestinationTransactionDate\n",
       "167354  2013-11-24 14:27:00                    2013-11-24 15:00:00\n",
       "169160  2013-11-30 10:32:00                    2013-12-01 00:00:00\n",
       "203087  2014-04-07 00:00:00                    2014-04-13 00:00:00\n",
       "203088  2014-04-09 00:00:00                    2014-04-14 00:00:00\n",
       "203089  2014-04-10 00:00:00                    2014-04-15 00:00:00\n",
       "...                     ...                                    ...\n",
       "427076  2023-04-19 00:00:00                    2023-04-21 19:03:00\n",
       "427090  2023-04-27 12:00:00                    2023-04-28 00:00:00\n",
       "427091  2023-04-28 12:00:00                    2023-04-29 00:00:00\n",
       "427230  2023-05-31 12:00:00                    2023-06-03 00:00:00\n",
       "427369  2023-06-01 00:00:00                    2023-06-02 00:00:00\n",
       "\n",
       "[7008 rows x 2 columns]"
      ]
     },
     "execution_count": 81,
     "metadata": {},
     "output_type": "execute_result"
    }
   ],
   "source": [
    "qmaster[qmaster['end_diff'] == True][['CargoMovementEndDate','Destination.DestinationTransactionDate']]"
   ]
  },
  {
   "cell_type": "markdown",
   "id": "b6848d52",
   "metadata": {},
   "source": [
    "- We have identified rows which are having delayed trains\n",
    "- The delayed trains are having same dates during start of run and at the arrival which indecates that both there is some descrepency in recording of these dates.\n",
    "- Overall, we can assume that there are `7008` rows which are having train dalays. we will analyze these columns further to identify potential reasons behind these delays."
   ]
  },
  {
   "cell_type": "markdown",
   "id": "2a873ac2",
   "metadata": {},
   "source": [
    "### Analysis of delayed trains with influncing factors"
   ]
  },
  {
   "cell_type": "markdown",
   "id": "188f140b",
   "metadata": {},
   "source": [
    "1. Analysis of BU"
   ]
  },
  {
   "cell_type": "code",
   "execution_count": 82,
   "id": "e18de7d3",
   "metadata": {},
   "outputs": [
    {
     "data": {
      "text/html": [
       "<div>\n",
       "<style scoped>\n",
       "    .dataframe tbody tr th:only-of-type {\n",
       "        vertical-align: middle;\n",
       "    }\n",
       "\n",
       "    .dataframe tbody tr th {\n",
       "        vertical-align: top;\n",
       "    }\n",
       "\n",
       "    .dataframe thead th {\n",
       "        text-align: right;\n",
       "    }\n",
       "</style>\n",
       "<table border=\"1\" class=\"dataframe\">\n",
       "  <thead>\n",
       "    <tr style=\"text-align: right;\">\n",
       "      <th>start_diff</th>\n",
       "      <th>False</th>\n",
       "      <th>True</th>\n",
       "    </tr>\n",
       "    <tr>\n",
       "      <th>BU</th>\n",
       "      <th></th>\n",
       "      <th></th>\n",
       "    </tr>\n",
       "  </thead>\n",
       "  <tbody>\n",
       "    <tr>\n",
       "      <th>Location103 Location194 Coal</th>\n",
       "      <td>3</td>\n",
       "      <td>0</td>\n",
       "    </tr>\n",
       "    <tr>\n",
       "      <th>Location105 Location194 Coal</th>\n",
       "      <td>329</td>\n",
       "      <td>0</td>\n",
       "    </tr>\n",
       "    <tr>\n",
       "      <th>Location13</th>\n",
       "      <td>1198</td>\n",
       "      <td>15</td>\n",
       "    </tr>\n",
       "    <tr>\n",
       "      <th>Location182</th>\n",
       "      <td>1</td>\n",
       "      <td>0</td>\n",
       "    </tr>\n",
       "    <tr>\n",
       "      <th>Location22 East</th>\n",
       "      <td>538</td>\n",
       "      <td>14</td>\n",
       "    </tr>\n",
       "    <tr>\n",
       "      <th>Location40 HQP</th>\n",
       "      <td>1093</td>\n",
       "      <td>8</td>\n",
       "    </tr>\n",
       "    <tr>\n",
       "      <th>Location40 International Trading AG</th>\n",
       "      <td>9</td>\n",
       "      <td>0</td>\n",
       "    </tr>\n",
       "    <tr>\n",
       "      <th>Location40 International Trading B.V.</th>\n",
       "      <td>3</td>\n",
       "      <td>0</td>\n",
       "    </tr>\n",
       "    <tr>\n",
       "      <th>Location47 North</th>\n",
       "      <td>586</td>\n",
       "      <td>24</td>\n",
       "    </tr>\n",
       "    <tr>\n",
       "      <th>Location54 Location194 Coal</th>\n",
       "      <td>138784</td>\n",
       "      <td>6743</td>\n",
       "    </tr>\n",
       "    <tr>\n",
       "      <th>Location63 Location194 Coal</th>\n",
       "      <td>21488</td>\n",
       "      <td>6</td>\n",
       "    </tr>\n",
       "    <tr>\n",
       "      <th>Location74 Location194 Coal</th>\n",
       "      <td>63352</td>\n",
       "      <td>143</td>\n",
       "    </tr>\n",
       "    <tr>\n",
       "      <th>Location80 Location194 Coal</th>\n",
       "      <td>2716</td>\n",
       "      <td>55</td>\n",
       "    </tr>\n",
       "  </tbody>\n",
       "</table>\n",
       "</div>"
      ],
      "text/plain": [
       "start_diff                              False  True \n",
       "BU                                                  \n",
       "Location103 Location194 Coal                3      0\n",
       "Location105 Location194 Coal              329      0\n",
       "Location13                               1198     15\n",
       "Location182                                 1      0\n",
       "Location22 East                           538     14\n",
       "Location40 HQP                           1093      8\n",
       "Location40 International Trading AG         9      0\n",
       "Location40 International Trading B.V.       3      0\n",
       "Location47 North                          586     24\n",
       "Location54 Location194 Coal            138784   6743\n",
       "Location63 Location194 Coal             21488      6\n",
       "Location74 Location194 Coal             63352    143\n",
       "Location80 Location194 Coal              2716     55"
      ]
     },
     "execution_count": 82,
     "metadata": {},
     "output_type": "execute_result"
    }
   ],
   "source": [
    "def train_delay_cancel(feature1):\n",
    "    cross_tab = pd.crosstab(qmaster[feature1], qmaster['start_diff'])\n",
    "    return pd.DataFrame(cross_tab)\n",
    "\n",
    "def stack_viz(feature1):\n",
    "    cross_tab = pd.crosstab(qmaster[feature1], qmaster['start_diff'])\n",
    "    cross_tab.plot(kind='bar', stacked=True)\n",
    "    plt.title(f'Stacked Bar Plot of {feature1} vs. Start_diff')\n",
    "    plt.xlabel(f'{feature1}')\n",
    "    plt.ylabel('Count')\n",
    "    plt.show()\n",
    "\n",
    "train_delay_cancel('BU')"
   ]
  },
  {
   "cell_type": "markdown",
   "id": "8c73dc5f",
   "metadata": {},
   "source": [
    "- Most number of delayed happened by BU `Location54 Location194 Coal`"
   ]
  },
  {
   "cell_type": "code",
   "execution_count": 83,
   "id": "35007eb9",
   "metadata": {},
   "outputs": [
    {
     "data": {
      "image/png": "[encoded data removed]",
      "text/plain": [
       "<Figure size 640x480 with 1 Axes>"
      ]
     },
     "metadata": {},
     "output_type": "display_data"
    }
   ],
   "source": [
    "stack_viz('BU')"
   ]
  },
  {
   "cell_type": "markdown",
   "id": "75cb0b89",
   "metadata": {},
   "source": [
    "2. Analysis of Customer"
   ]
  },
  {
   "cell_type": "code",
   "execution_count": 84,
   "id": "39f1859c",
   "metadata": {},
   "outputs": [
    {
     "data": {
      "text/html": [
       "<div>\n",
       "<style scoped>\n",
       "    .dataframe tbody tr th:only-of-type {\n",
       "        vertical-align: middle;\n",
       "    }\n",
       "\n",
       "    .dataframe tbody tr th {\n",
       "        vertical-align: top;\n",
       "    }\n",
       "\n",
       "    .dataframe thead th {\n",
       "        text-align: right;\n",
       "    }\n",
       "</style>\n",
       "<table border=\"1\" class=\"dataframe\">\n",
       "  <thead>\n",
       "    <tr style=\"text-align: right;\">\n",
       "      <th>start_diff</th>\n",
       "      <th>False</th>\n",
       "      <th>True</th>\n",
       "    </tr>\n",
       "    <tr>\n",
       "      <th>Customer</th>\n",
       "      <th></th>\n",
       "      <th></th>\n",
       "    </tr>\n",
       "  </thead>\n",
       "  <tbody>\n",
       "    <tr>\n",
       "      <th>Location0</th>\n",
       "      <td>41</td>\n",
       "      <td>0</td>\n",
       "    </tr>\n",
       "    <tr>\n",
       "      <th>Location1</th>\n",
       "      <td>1</td>\n",
       "      <td>0</td>\n",
       "    </tr>\n",
       "    <tr>\n",
       "      <th>Location10</th>\n",
       "      <td>1202</td>\n",
       "      <td>0</td>\n",
       "    </tr>\n",
       "    <tr>\n",
       "      <th>Location101</th>\n",
       "      <td>16</td>\n",
       "      <td>0</td>\n",
       "    </tr>\n",
       "    <tr>\n",
       "      <th>Location102</th>\n",
       "      <td>60</td>\n",
       "      <td>0</td>\n",
       "    </tr>\n",
       "    <tr>\n",
       "      <th>...</th>\n",
       "      <td>...</td>\n",
       "      <td>...</td>\n",
       "    </tr>\n",
       "    <tr>\n",
       "      <th>Location72</th>\n",
       "      <td>3</td>\n",
       "      <td>0</td>\n",
       "    </tr>\n",
       "    <tr>\n",
       "      <th>Location78</th>\n",
       "      <td>99</td>\n",
       "      <td>1</td>\n",
       "    </tr>\n",
       "    <tr>\n",
       "      <th>Location79</th>\n",
       "      <td>79</td>\n",
       "      <td>0</td>\n",
       "    </tr>\n",
       "    <tr>\n",
       "      <th>Location90</th>\n",
       "      <td>119</td>\n",
       "      <td>2</td>\n",
       "    </tr>\n",
       "    <tr>\n",
       "      <th>zz* Do Not Use * Location156 Depot Stock</th>\n",
       "      <td>1</td>\n",
       "      <td>0</td>\n",
       "    </tr>\n",
       "  </tbody>\n",
       "</table>\n",
       "<p>66 rows × 2 columns</p>\n",
       "</div>"
      ],
      "text/plain": [
       "start_diff                                False  True \n",
       "Customer                                              \n",
       "Location0                                    41      0\n",
       "Location1                                     1      0\n",
       "Location10                                 1202      0\n",
       "Location101                                  16      0\n",
       "Location102                                  60      0\n",
       "...                                         ...    ...\n",
       "Location72                                    3      0\n",
       "Location78                                   99      1\n",
       "Location79                                   79      0\n",
       "Location90                                  119      2\n",
       "zz* Do Not Use * Location156 Depot Stock      1      0\n",
       "\n",
       "[66 rows x 2 columns]"
      ]
     },
     "execution_count": 84,
     "metadata": {},
     "output_type": "execute_result"
    }
   ],
   "source": [
    "train_delay_cancel('Customer')"
   ]
  },
  {
   "cell_type": "code",
   "execution_count": 85,
   "id": "eae302b5",
   "metadata": {},
   "outputs": [
    {
     "data": {
      "image/png": "[encoded data removed]",
      "text/plain": [
       "<Figure size 640x480 with 1 Axes>"
      ]
     },
     "metadata": {},
     "output_type": "display_data"
    }
   ],
   "source": [
    "stack_viz('Customer')"
   ]
  },
  {
   "cell_type": "markdown",
   "id": "7bc5ab2c",
   "metadata": {},
   "source": [
    "3. Analysis of Route"
   ]
  },
  {
   "cell_type": "code",
   "execution_count": 86,
   "id": "3962e1e1",
   "metadata": {},
   "outputs": [
    {
     "data": {
      "text/html": [
       "<div>\n",
       "<style scoped>\n",
       "    .dataframe tbody tr th:only-of-type {\n",
       "        vertical-align: middle;\n",
       "    }\n",
       "\n",
       "    .dataframe tbody tr th {\n",
       "        vertical-align: top;\n",
       "    }\n",
       "\n",
       "    .dataframe thead th {\n",
       "        text-align: right;\n",
       "    }\n",
       "</style>\n",
       "<table border=\"1\" class=\"dataframe\">\n",
       "  <thead>\n",
       "    <tr style=\"text-align: right;\">\n",
       "      <th>start_diff</th>\n",
       "      <th>False</th>\n",
       "      <th>True</th>\n",
       "    </tr>\n",
       "    <tr>\n",
       "      <th>Route</th>\n",
       "      <th></th>\n",
       "      <th></th>\n",
       "    </tr>\n",
       "  </thead>\n",
       "  <tbody>\n",
       "    <tr>\n",
       "      <th>Location105 to Location125</th>\n",
       "      <td>24</td>\n",
       "      <td>0</td>\n",
       "    </tr>\n",
       "    <tr>\n",
       "      <th>Location13 to Location125</th>\n",
       "      <td>1199</td>\n",
       "      <td>15</td>\n",
       "    </tr>\n",
       "    <tr>\n",
       "      <th>Location13 to Location83 (CoAL)</th>\n",
       "      <td>3</td>\n",
       "      <td>0</td>\n",
       "    </tr>\n",
       "    <tr>\n",
       "      <th>Location162 : Location197 from Location154</th>\n",
       "      <td>153</td>\n",
       "      <td>0</td>\n",
       "    </tr>\n",
       "    <tr>\n",
       "      <th>Location162 : Location197 from Location181</th>\n",
       "      <td>79</td>\n",
       "      <td>0</td>\n",
       "    </tr>\n",
       "    <tr>\n",
       "      <th>...</th>\n",
       "      <td>...</td>\n",
       "      <td>...</td>\n",
       "    </tr>\n",
       "    <tr>\n",
       "      <th>Location74 to Location67</th>\n",
       "      <td>468</td>\n",
       "      <td>1</td>\n",
       "    </tr>\n",
       "    <tr>\n",
       "      <th>Location74 to Location73</th>\n",
       "      <td>48</td>\n",
       "      <td>1</td>\n",
       "    </tr>\n",
       "    <tr>\n",
       "      <th>Location74 to Location83 (CoAL)</th>\n",
       "      <td>77</td>\n",
       "      <td>0</td>\n",
       "    </tr>\n",
       "    <tr>\n",
       "      <th>Location74 to Location83 (Location206)</th>\n",
       "      <td>116</td>\n",
       "      <td>3</td>\n",
       "    </tr>\n",
       "    <tr>\n",
       "      <th>Location80 to Location125 (84t)</th>\n",
       "      <td>1929</td>\n",
       "      <td>54</td>\n",
       "    </tr>\n",
       "  </tbody>\n",
       "</table>\n",
       "<p>72 rows × 2 columns</p>\n",
       "</div>"
      ],
      "text/plain": [
       "start_diff                                  False  True \n",
       "Route                                                   \n",
       "Location105 to Location125                     24      0\n",
       "Location13 to Location125                    1199     15\n",
       "Location13 to Location83 (CoAL)                 3      0\n",
       "Location162 : Location197 from Location154    153      0\n",
       "Location162 : Location197 from Location181     79      0\n",
       "...                                           ...    ...\n",
       "Location74 to Location67                      468      1\n",
       "Location74 to Location73                       48      1\n",
       "Location74 to Location83 (CoAL)                77      0\n",
       "Location74 to Location83 (Location206)        116      3\n",
       "Location80 to Location125 (84t)              1929     54\n",
       "\n",
       "[72 rows x 2 columns]"
      ]
     },
     "execution_count": 86,
     "metadata": {},
     "output_type": "execute_result"
    }
   ],
   "source": [
    "train_delay_cancel('Route')"
   ]
  },
  {
   "cell_type": "markdown",
   "id": "cc3bce1e",
   "metadata": {},
   "source": [
    "4. By Destination.Split (multiple products)"
   ]
  },
  {
   "cell_type": "code",
   "execution_count": 87,
   "id": "ac967c59",
   "metadata": {},
   "outputs": [
    {
     "data": {
      "text/html": [
       "<div>\n",
       "<style scoped>\n",
       "    .dataframe tbody tr th:only-of-type {\n",
       "        vertical-align: middle;\n",
       "    }\n",
       "\n",
       "    .dataframe tbody tr th {\n",
       "        vertical-align: top;\n",
       "    }\n",
       "\n",
       "    .dataframe thead th {\n",
       "        text-align: right;\n",
       "    }\n",
       "</style>\n",
       "<table border=\"1\" class=\"dataframe\">\n",
       "  <thead>\n",
       "    <tr style=\"text-align: right;\">\n",
       "      <th>start_diff</th>\n",
       "      <th>False</th>\n",
       "      <th>True</th>\n",
       "    </tr>\n",
       "    <tr>\n",
       "      <th>Destination.Split</th>\n",
       "      <th></th>\n",
       "      <th></th>\n",
       "    </tr>\n",
       "  </thead>\n",
       "  <tbody>\n",
       "    <tr>\n",
       "      <th>1.0</th>\n",
       "      <td>71669</td>\n",
       "      <td>4372</td>\n",
       "    </tr>\n",
       "    <tr>\n",
       "      <th>2.0</th>\n",
       "      <td>2362</td>\n",
       "      <td>2</td>\n",
       "    </tr>\n",
       "    <tr>\n",
       "      <th>3.0</th>\n",
       "      <td>24</td>\n",
       "      <td>1</td>\n",
       "    </tr>\n",
       "  </tbody>\n",
       "</table>\n",
       "</div>"
      ],
      "text/plain": [
       "start_diff         False  True \n",
       "Destination.Split              \n",
       "1.0                71669   4372\n",
       "2.0                 2362      2\n",
       "3.0                   24      1"
      ]
     },
     "execution_count": 87,
     "metadata": {},
     "output_type": "execute_result"
    }
   ],
   "source": [
    "train_delay_cancel('Destination.Split')"
   ]
  },
  {
   "cell_type": "code",
   "execution_count": 88,
   "id": "a8783935",
   "metadata": {},
   "outputs": [
    {
     "data": {
      "image/png": "[encoded data removed]",
      "text/plain": [
       "<Figure size 640x480 with 1 Axes>"
      ]
     },
     "metadata": {},
     "output_type": "display_data"
    }
   ],
   "source": [
    "stack_viz('Destination.Split')"
   ]
  },
  {
   "cell_type": "markdown",
   "id": "bbf6c760",
   "metadata": {},
   "source": [
    "- Majority of trains were with 1 item. and also trains with 1 items mostly delayed"
   ]
  },
  {
   "cell_type": "markdown",
   "id": "5516a86b",
   "metadata": {},
   "source": [
    "5. By Consignment (Rail service provider UID)"
   ]
  },
  {
   "cell_type": "code",
   "execution_count": 89,
   "id": "e91c27d2",
   "metadata": {},
   "outputs": [
    {
     "data": {
      "text/html": [
       "<div>\n",
       "<style scoped>\n",
       "    .dataframe tbody tr th:only-of-type {\n",
       "        vertical-align: middle;\n",
       "    }\n",
       "\n",
       "    .dataframe tbody tr th {\n",
       "        vertical-align: top;\n",
       "    }\n",
       "\n",
       "    .dataframe thead th {\n",
       "        text-align: right;\n",
       "    }\n",
       "</style>\n",
       "<table border=\"1\" class=\"dataframe\">\n",
       "  <thead>\n",
       "    <tr style=\"text-align: right;\">\n",
       "      <th>start_diff</th>\n",
       "      <th>False</th>\n",
       "      <th>True</th>\n",
       "    </tr>\n",
       "    <tr>\n",
       "      <th>Consignment</th>\n",
       "      <th></th>\n",
       "      <th></th>\n",
       "    </tr>\n",
       "  </thead>\n",
       "  <tbody>\n",
       "    <tr>\n",
       "      <th>0</th>\n",
       "      <td>49</td>\n",
       "      <td>0</td>\n",
       "    </tr>\n",
       "    <tr>\n",
       "      <th>0000000000A</th>\n",
       "      <td>5</td>\n",
       "      <td>0</td>\n",
       "    </tr>\n",
       "    <tr>\n",
       "      <th>10072987</th>\n",
       "      <td>1</td>\n",
       "      <td>0</td>\n",
       "    </tr>\n",
       "    <tr>\n",
       "      <th>1234567</th>\n",
       "      <td>1</td>\n",
       "      <td>0</td>\n",
       "    </tr>\n",
       "    <tr>\n",
       "      <th>123456789</th>\n",
       "      <td>1</td>\n",
       "      <td>0</td>\n",
       "    </tr>\n",
       "    <tr>\n",
       "      <th>...</th>\n",
       "      <td>...</td>\n",
       "      <td>...</td>\n",
       "    </tr>\n",
       "    <tr>\n",
       "      <th>Split from GLK-04-3846</th>\n",
       "      <td>1</td>\n",
       "      <td>0</td>\n",
       "    </tr>\n",
       "    <tr>\n",
       "      <th>TEST123</th>\n",
       "      <td>1</td>\n",
       "      <td>0</td>\n",
       "    </tr>\n",
       "    <tr>\n",
       "      <th>Test</th>\n",
       "      <td>0</td>\n",
       "      <td>1</td>\n",
       "    </tr>\n",
       "    <tr>\n",
       "      <th>TestPieter</th>\n",
       "      <td>1</td>\n",
       "      <td>0</td>\n",
       "    </tr>\n",
       "    <tr>\n",
       "      <th>cons 8088219601</th>\n",
       "      <td>1</td>\n",
       "      <td>0</td>\n",
       "    </tr>\n",
       "  </tbody>\n",
       "</table>\n",
       "<p>20581 rows × 2 columns</p>\n",
       "</div>"
      ],
      "text/plain": [
       "start_diff              False  True \n",
       "Consignment                         \n",
       "0                          49      0\n",
       "0000000000A                 5      0\n",
       "10072987                    1      0\n",
       "1234567                     1      0\n",
       "123456789                   1      0\n",
       "...                       ...    ...\n",
       "Split from GLK-04-3846      1      0\n",
       "TEST123                     1      0\n",
       "Test                        0      1\n",
       "TestPieter                  1      0\n",
       "cons 8088219601             1      0\n",
       "\n",
       "[20581 rows x 2 columns]"
      ]
     },
     "execution_count": 89,
     "metadata": {},
     "output_type": "execute_result"
    }
   ],
   "source": [
    "train_delay_cancel('Consignment')"
   ]
  },
  {
   "cell_type": "markdown",
   "id": "090ae39a",
   "metadata": {},
   "source": [
    "- Consignment feature has many incorrect values. there are some dummy values added in the dataset"
   ]
  },
  {
   "cell_type": "markdown",
   "id": "9881271b",
   "metadata": {},
   "source": [
    "6. By Destination.DestinationQuantSum (arrival tonnes)"
   ]
  },
  {
   "cell_type": "code",
   "execution_count": 90,
   "id": "7fe7482f",
   "metadata": {},
   "outputs": [
    {
     "data": {
      "text/html": [
       "<div>\n",
       "<style scoped>\n",
       "    .dataframe tbody tr th:only-of-type {\n",
       "        vertical-align: middle;\n",
       "    }\n",
       "\n",
       "    .dataframe tbody tr th {\n",
       "        vertical-align: top;\n",
       "    }\n",
       "\n",
       "    .dataframe thead th {\n",
       "        text-align: right;\n",
       "    }\n",
       "</style>\n",
       "<table border=\"1\" class=\"dataframe\">\n",
       "  <thead>\n",
       "    <tr style=\"text-align: right;\">\n",
       "      <th>start_diff</th>\n",
       "      <th>False</th>\n",
       "      <th>True</th>\n",
       "    </tr>\n",
       "    <tr>\n",
       "      <th>Destination.DestinationQuantSum</th>\n",
       "      <th></th>\n",
       "      <th></th>\n",
       "    </tr>\n",
       "  </thead>\n",
       "  <tbody>\n",
       "    <tr>\n",
       "      <th>0.24</th>\n",
       "      <td>11</td>\n",
       "      <td>0</td>\n",
       "    </tr>\n",
       "    <tr>\n",
       "      <th>1.00</th>\n",
       "      <td>1</td>\n",
       "      <td>0</td>\n",
       "    </tr>\n",
       "    <tr>\n",
       "      <th>5.00</th>\n",
       "      <td>1</td>\n",
       "      <td>0</td>\n",
       "    </tr>\n",
       "    <tr>\n",
       "      <th>107.00</th>\n",
       "      <td>1</td>\n",
       "      <td>0</td>\n",
       "    </tr>\n",
       "    <tr>\n",
       "      <th>121.00</th>\n",
       "      <td>1</td>\n",
       "      <td>0</td>\n",
       "    </tr>\n",
       "    <tr>\n",
       "      <th>...</th>\n",
       "      <td>...</td>\n",
       "      <td>...</td>\n",
       "    </tr>\n",
       "    <tr>\n",
       "      <th>25800.48</th>\n",
       "      <td>90</td>\n",
       "      <td>0</td>\n",
       "    </tr>\n",
       "    <tr>\n",
       "      <th>38546.47</th>\n",
       "      <td>55</td>\n",
       "      <td>0</td>\n",
       "    </tr>\n",
       "    <tr>\n",
       "      <th>42558.88</th>\n",
       "      <td>90</td>\n",
       "      <td>0</td>\n",
       "    </tr>\n",
       "    <tr>\n",
       "      <th>60000.00</th>\n",
       "      <td>1</td>\n",
       "      <td>0</td>\n",
       "    </tr>\n",
       "    <tr>\n",
       "      <th>88441.00</th>\n",
       "      <td>1</td>\n",
       "      <td>0</td>\n",
       "    </tr>\n",
       "  </tbody>\n",
       "</table>\n",
       "<p>3953 rows × 2 columns</p>\n",
       "</div>"
      ],
      "text/plain": [
       "start_diff                       False  True \n",
       "Destination.DestinationQuantSum              \n",
       "0.24                                11      0\n",
       "1.00                                 1      0\n",
       "5.00                                 1      0\n",
       "107.00                               1      0\n",
       "121.00                               1      0\n",
       "...                                ...    ...\n",
       "25800.48                            90      0\n",
       "38546.47                            55      0\n",
       "42558.88                            90      0\n",
       "60000.00                             1      0\n",
       "88441.00                             1      0\n",
       "\n",
       "[3953 rows x 2 columns]"
      ]
     },
     "execution_count": 90,
     "metadata": {},
     "output_type": "execute_result"
    }
   ],
   "source": [
    "train_delay_cancel('Destination.DestinationQuantSum')"
   ]
  },
  {
   "cell_type": "markdown",
   "id": "0811cf79",
   "metadata": {},
   "source": [
    "7. By wagons planned"
   ]
  },
  {
   "cell_type": "code",
   "execution_count": 91,
   "id": "619ff1dc",
   "metadata": {},
   "outputs": [
    {
     "data": {
      "text/html": [
       "<div>\n",
       "<style scoped>\n",
       "    .dataframe tbody tr th:only-of-type {\n",
       "        vertical-align: middle;\n",
       "    }\n",
       "\n",
       "    .dataframe tbody tr th {\n",
       "        vertical-align: top;\n",
       "    }\n",
       "\n",
       "    .dataframe thead th {\n",
       "        text-align: right;\n",
       "    }\n",
       "</style>\n",
       "<table border=\"1\" class=\"dataframe\">\n",
       "  <thead>\n",
       "    <tr style=\"text-align: right;\">\n",
       "      <th>start_diff</th>\n",
       "      <th>False</th>\n",
       "      <th>True</th>\n",
       "    </tr>\n",
       "    <tr>\n",
       "      <th>Wagons.Planned</th>\n",
       "      <th></th>\n",
       "      <th></th>\n",
       "    </tr>\n",
       "  </thead>\n",
       "  <tbody>\n",
       "    <tr>\n",
       "      <th>0.0</th>\n",
       "      <td>190</td>\n",
       "      <td>1</td>\n",
       "    </tr>\n",
       "    <tr>\n",
       "      <th>1.0</th>\n",
       "      <td>1</td>\n",
       "      <td>0</td>\n",
       "    </tr>\n",
       "    <tr>\n",
       "      <th>2.0</th>\n",
       "      <td>0</td>\n",
       "      <td>1</td>\n",
       "    </tr>\n",
       "    <tr>\n",
       "      <th>3.0</th>\n",
       "      <td>1</td>\n",
       "      <td>3</td>\n",
       "    </tr>\n",
       "    <tr>\n",
       "      <th>4.0</th>\n",
       "      <td>2</td>\n",
       "      <td>0</td>\n",
       "    </tr>\n",
       "    <tr>\n",
       "      <th>5.0</th>\n",
       "      <td>6</td>\n",
       "      <td>3</td>\n",
       "    </tr>\n",
       "    <tr>\n",
       "      <th>19.0</th>\n",
       "      <td>19</td>\n",
       "      <td>0</td>\n",
       "    </tr>\n",
       "    <tr>\n",
       "      <th>20.0</th>\n",
       "      <td>1</td>\n",
       "      <td>0</td>\n",
       "    </tr>\n",
       "    <tr>\n",
       "      <th>21.0</th>\n",
       "      <td>1</td>\n",
       "      <td>0</td>\n",
       "    </tr>\n",
       "    <tr>\n",
       "      <th>23.0</th>\n",
       "      <td>1</td>\n",
       "      <td>0</td>\n",
       "    </tr>\n",
       "    <tr>\n",
       "      <th>24.0</th>\n",
       "      <td>1</td>\n",
       "      <td>0</td>\n",
       "    </tr>\n",
       "    <tr>\n",
       "      <th>25.0</th>\n",
       "      <td>1</td>\n",
       "      <td>0</td>\n",
       "    </tr>\n",
       "    <tr>\n",
       "      <th>31.0</th>\n",
       "      <td>31</td>\n",
       "      <td>0</td>\n",
       "    </tr>\n",
       "    <tr>\n",
       "      <th>32.0</th>\n",
       "      <td>1</td>\n",
       "      <td>0</td>\n",
       "    </tr>\n",
       "    <tr>\n",
       "      <th>33.0</th>\n",
       "      <td>32</td>\n",
       "      <td>0</td>\n",
       "    </tr>\n",
       "    <tr>\n",
       "      <th>35.0</th>\n",
       "      <td>36</td>\n",
       "      <td>2</td>\n",
       "    </tr>\n",
       "    <tr>\n",
       "      <th>37.0</th>\n",
       "      <td>0</td>\n",
       "      <td>1</td>\n",
       "    </tr>\n",
       "    <tr>\n",
       "      <th>38.0</th>\n",
       "      <td>37</td>\n",
       "      <td>1</td>\n",
       "    </tr>\n",
       "    <tr>\n",
       "      <th>39.0</th>\n",
       "      <td>42</td>\n",
       "      <td>0</td>\n",
       "    </tr>\n",
       "    <tr>\n",
       "      <th>40.0</th>\n",
       "      <td>12527</td>\n",
       "      <td>512</td>\n",
       "    </tr>\n",
       "    <tr>\n",
       "      <th>42.0</th>\n",
       "      <td>34</td>\n",
       "      <td>0</td>\n",
       "    </tr>\n",
       "    <tr>\n",
       "      <th>45.0</th>\n",
       "      <td>1191</td>\n",
       "      <td>5</td>\n",
       "    </tr>\n",
       "    <tr>\n",
       "      <th>47.0</th>\n",
       "      <td>1</td>\n",
       "      <td>0</td>\n",
       "    </tr>\n",
       "    <tr>\n",
       "      <th>48.0</th>\n",
       "      <td>5</td>\n",
       "      <td>2</td>\n",
       "    </tr>\n",
       "    <tr>\n",
       "      <th>50.0</th>\n",
       "      <td>2074</td>\n",
       "      <td>22</td>\n",
       "    </tr>\n",
       "    <tr>\n",
       "      <th>52.0</th>\n",
       "      <td>4</td>\n",
       "      <td>2</td>\n",
       "    </tr>\n",
       "    <tr>\n",
       "      <th>55.0</th>\n",
       "      <td>51</td>\n",
       "      <td>0</td>\n",
       "    </tr>\n",
       "    <tr>\n",
       "      <th>59.0</th>\n",
       "      <td>1</td>\n",
       "      <td>0</td>\n",
       "    </tr>\n",
       "    <tr>\n",
       "      <th>60.0</th>\n",
       "      <td>5</td>\n",
       "      <td>1</td>\n",
       "    </tr>\n",
       "    <tr>\n",
       "      <th>61.0</th>\n",
       "      <td>1</td>\n",
       "      <td>0</td>\n",
       "    </tr>\n",
       "    <tr>\n",
       "      <th>65.0</th>\n",
       "      <td>1</td>\n",
       "      <td>0</td>\n",
       "    </tr>\n",
       "    <tr>\n",
       "      <th>70.0</th>\n",
       "      <td>4</td>\n",
       "      <td>0</td>\n",
       "    </tr>\n",
       "    <tr>\n",
       "      <th>72.0</th>\n",
       "      <td>215</td>\n",
       "      <td>3</td>\n",
       "    </tr>\n",
       "    <tr>\n",
       "      <th>73.0</th>\n",
       "      <td>4733</td>\n",
       "      <td>87</td>\n",
       "    </tr>\n",
       "    <tr>\n",
       "      <th>74.0</th>\n",
       "      <td>119</td>\n",
       "      <td>0</td>\n",
       "    </tr>\n",
       "    <tr>\n",
       "      <th>75.0</th>\n",
       "      <td>15084</td>\n",
       "      <td>663</td>\n",
       "    </tr>\n",
       "    <tr>\n",
       "      <th>76.0</th>\n",
       "      <td>1</td>\n",
       "      <td>0</td>\n",
       "    </tr>\n",
       "    <tr>\n",
       "      <th>77.0</th>\n",
       "      <td>1</td>\n",
       "      <td>0</td>\n",
       "    </tr>\n",
       "    <tr>\n",
       "      <th>79.0</th>\n",
       "      <td>68</td>\n",
       "      <td>0</td>\n",
       "    </tr>\n",
       "    <tr>\n",
       "      <th>80.0</th>\n",
       "      <td>11534</td>\n",
       "      <td>418</td>\n",
       "    </tr>\n",
       "    <tr>\n",
       "      <th>100.0</th>\n",
       "      <td>19096</td>\n",
       "      <td>4337</td>\n",
       "    </tr>\n",
       "    <tr>\n",
       "      <th>104.0</th>\n",
       "      <td>342</td>\n",
       "      <td>0</td>\n",
       "    </tr>\n",
       "    <tr>\n",
       "      <th>1000.0</th>\n",
       "      <td>1</td>\n",
       "      <td>0</td>\n",
       "    </tr>\n",
       "    <tr>\n",
       "      <th>1760.0</th>\n",
       "      <td>3</td>\n",
       "      <td>0</td>\n",
       "    </tr>\n",
       "    <tr>\n",
       "      <th>2300.0</th>\n",
       "      <td>5</td>\n",
       "      <td>0</td>\n",
       "    </tr>\n",
       "    <tr>\n",
       "      <th>2320.0</th>\n",
       "      <td>1</td>\n",
       "      <td>0</td>\n",
       "    </tr>\n",
       "    <tr>\n",
       "      <th>2900.0</th>\n",
       "      <td>1</td>\n",
       "      <td>0</td>\n",
       "    </tr>\n",
       "    <tr>\n",
       "      <th>5900.0</th>\n",
       "      <td>1</td>\n",
       "      <td>0</td>\n",
       "    </tr>\n",
       "    <tr>\n",
       "      <th>8400.0</th>\n",
       "      <td>2</td>\n",
       "      <td>0</td>\n",
       "    </tr>\n",
       "  </tbody>\n",
       "</table>\n",
       "</div>"
      ],
      "text/plain": [
       "start_diff      False  True \n",
       "Wagons.Planned              \n",
       "0.0               190      1\n",
       "1.0                 1      0\n",
       "2.0                 0      1\n",
       "3.0                 1      3\n",
       "4.0                 2      0\n",
       "5.0                 6      3\n",
       "19.0               19      0\n",
       "20.0                1      0\n",
       "21.0                1      0\n",
       "23.0                1      0\n",
       "24.0                1      0\n",
       "25.0                1      0\n",
       "31.0               31      0\n",
       "32.0                1      0\n",
       "33.0               32      0\n",
       "35.0               36      2\n",
       "37.0                0      1\n",
       "38.0               37      1\n",
       "39.0               42      0\n",
       "40.0            12527    512\n",
       "42.0               34      0\n",
       "45.0             1191      5\n",
       "47.0                1      0\n",
       "48.0                5      2\n",
       "50.0             2074     22\n",
       "52.0                4      2\n",
       "55.0               51      0\n",
       "59.0                1      0\n",
       "60.0                5      1\n",
       "61.0                1      0\n",
       "65.0                1      0\n",
       "70.0                4      0\n",
       "72.0              215      3\n",
       "73.0             4733     87\n",
       "74.0              119      0\n",
       "75.0            15084    663\n",
       "76.0                1      0\n",
       "77.0                1      0\n",
       "79.0               68      0\n",
       "80.0            11534    418\n",
       "100.0           19096   4337\n",
       "104.0             342      0\n",
       "1000.0              1      0\n",
       "1760.0              3      0\n",
       "2300.0              5      0\n",
       "2320.0              1      0\n",
       "2900.0              1      0\n",
       "5900.0              1      0\n",
       "8400.0              2      0"
      ]
     },
     "execution_count": 91,
     "metadata": {},
     "output_type": "execute_result"
    }
   ],
   "source": [
    "train_delay_cancel('Wagons.Planned')"
   ]
  },
  {
   "cell_type": "code",
   "execution_count": 92,
   "id": "ed4aa97c",
   "metadata": {},
   "outputs": [
    {
     "data": {
      "image/png": "[encoded data removed]",
      "text/plain": [
       "<Figure size 640x480 with 1 Axes>"
      ]
     },
     "metadata": {},
     "output_type": "display_data"
    }
   ],
   "source": [
    "stack_viz('Wagons.Planned')"
   ]
  },
  {
   "cell_type": "markdown",
   "id": "f962be68",
   "metadata": {},
   "source": [
    "- there are some outliers in the data. wagons cannot be 1000 for any train. wagons grater than 1000 is wrong data.\n",
    "- Here, too some trains with certain number of wagons are having delayed train while others are not delayed"
   ]
  },
  {
   "cell_type": "markdown",
   "id": "6db34443",
   "metadata": {},
   "source": [
    "8. By cancel group"
   ]
  },
  {
   "cell_type": "code",
   "execution_count": 93,
   "id": "42a191bc",
   "metadata": {},
   "outputs": [
    {
     "data": {
      "text/html": [
       "<div>\n",
       "<style scoped>\n",
       "    .dataframe tbody tr th:only-of-type {\n",
       "        vertical-align: middle;\n",
       "    }\n",
       "\n",
       "    .dataframe tbody tr th {\n",
       "        vertical-align: top;\n",
       "    }\n",
       "\n",
       "    .dataframe thead th {\n",
       "        text-align: right;\n",
       "    }\n",
       "</style>\n",
       "<table border=\"1\" class=\"dataframe\">\n",
       "  <thead>\n",
       "    <tr style=\"text-align: right;\">\n",
       "      <th>start_diff</th>\n",
       "      <th>False</th>\n",
       "      <th>True</th>\n",
       "    </tr>\n",
       "    <tr>\n",
       "      <th>Cancelled.ReasonGroup</th>\n",
       "      <th></th>\n",
       "      <th></th>\n",
       "    </tr>\n",
       "  </thead>\n",
       "  <tbody>\n",
       "    <tr>\n",
       "      <th>Cancelled</th>\n",
       "      <td>5115</td>\n",
       "      <td>104</td>\n",
       "    </tr>\n",
       "    <tr>\n",
       "      <th>Location172 Decline</th>\n",
       "      <td>2</td>\n",
       "      <td>0</td>\n",
       "    </tr>\n",
       "    <tr>\n",
       "      <th>Location172 NO Prelim</th>\n",
       "      <td>18</td>\n",
       "      <td>0</td>\n",
       "    </tr>\n",
       "    <tr>\n",
       "      <th>Location172 No Prelim-Not Approved</th>\n",
       "      <td>4</td>\n",
       "      <td>0</td>\n",
       "    </tr>\n",
       "  </tbody>\n",
       "</table>\n",
       "</div>"
      ],
      "text/plain": [
       "start_diff                          False  True \n",
       "Cancelled.ReasonGroup                           \n",
       "Cancelled                            5115    104\n",
       "Location172 Decline                     2      0\n",
       "Location172 NO Prelim                  18      0\n",
       "Location172 No Prelim-Not Approved      4      0"
      ]
     },
     "execution_count": 93,
     "metadata": {},
     "output_type": "execute_result"
    }
   ],
   "source": [
    "train_delay_cancel('Cancelled.ReasonGroup')"
   ]
  },
  {
   "cell_type": "code",
   "execution_count": 94,
   "id": "c96bc006",
   "metadata": {},
   "outputs": [
    {
     "data": {
      "image/png": "[encoded data removed]",
      "text/plain": [
       "<Figure size 640x480 with 1 Axes>"
      ]
     },
     "metadata": {},
     "output_type": "display_data"
    }
   ],
   "source": [
    "stack_viz('Cancelled.ReasonGroup')"
   ]
  },
  {
   "cell_type": "markdown",
   "id": "51754694",
   "metadata": {},
   "source": [
    "- It is contradictory to note that some of the cancelled trains were delayed as well. This can be case of descrepency and wrong record of data. "
   ]
  },
  {
   "cell_type": "markdown",
   "id": "ad4c97ab",
   "metadata": {},
   "source": [
    "- By cancel subgroup"
   ]
  },
  {
   "cell_type": "code",
   "execution_count": 95,
   "id": "624af2e0",
   "metadata": {},
   "outputs": [
    {
     "data": {
      "text/html": [
       "<div>\n",
       "<style scoped>\n",
       "    .dataframe tbody tr th:only-of-type {\n",
       "        vertical-align: middle;\n",
       "    }\n",
       "\n",
       "    .dataframe tbody tr th {\n",
       "        vertical-align: top;\n",
       "    }\n",
       "\n",
       "    .dataframe thead th {\n",
       "        text-align: right;\n",
       "    }\n",
       "</style>\n",
       "<table border=\"1\" class=\"dataframe\">\n",
       "  <thead>\n",
       "    <tr style=\"text-align: right;\">\n",
       "      <th>start_diff</th>\n",
       "      <th>False</th>\n",
       "      <th>True</th>\n",
       "    </tr>\n",
       "    <tr>\n",
       "      <th>Cancelled.ReasonSubgroup</th>\n",
       "      <th></th>\n",
       "      <th></th>\n",
       "    </tr>\n",
       "  </thead>\n",
       "  <tbody>\n",
       "    <tr>\n",
       "      <th>BU</th>\n",
       "      <td>738</td>\n",
       "      <td>7</td>\n",
       "    </tr>\n",
       "    <tr>\n",
       "      <th>Client</th>\n",
       "      <td>577</td>\n",
       "      <td>5</td>\n",
       "    </tr>\n",
       "    <tr>\n",
       "      <th>Location125</th>\n",
       "      <td>29</td>\n",
       "      <td>0</td>\n",
       "    </tr>\n",
       "    <tr>\n",
       "      <th>Location172</th>\n",
       "      <td>3673</td>\n",
       "      <td>91</td>\n",
       "    </tr>\n",
       "    <tr>\n",
       "      <th>Location38</th>\n",
       "      <td>30</td>\n",
       "      <td>0</td>\n",
       "    </tr>\n",
       "    <tr>\n",
       "      <th>Logistics</th>\n",
       "      <td>13</td>\n",
       "      <td>0</td>\n",
       "    </tr>\n",
       "    <tr>\n",
       "      <th>Marketing</th>\n",
       "      <td>79</td>\n",
       "      <td>1</td>\n",
       "    </tr>\n",
       "  </tbody>\n",
       "</table>\n",
       "</div>"
      ],
      "text/plain": [
       "start_diff                False  True \n",
       "Cancelled.ReasonSubgroup              \n",
       "BU                          738      7\n",
       "Client                      577      5\n",
       "Location125                  29      0\n",
       "Location172                3673     91\n",
       "Location38                   30      0\n",
       "Logistics                    13      0\n",
       "Marketing                    79      1"
      ]
     },
     "execution_count": 95,
     "metadata": {},
     "output_type": "execute_result"
    }
   ],
   "source": [
    "train_delay_cancel('Cancelled.ReasonSubgroup')"
   ]
  },
  {
   "cell_type": "markdown",
   "id": "6ad5ece9",
   "metadata": {},
   "source": [
    "9. by tonnes loaded into the rail"
   ]
  },
  {
   "cell_type": "code",
   "execution_count": 96,
   "id": "a190b4e6",
   "metadata": {},
   "outputs": [
    {
     "data": {
      "text/html": [
       "<div>\n",
       "<style scoped>\n",
       "    .dataframe tbody tr th:only-of-type {\n",
       "        vertical-align: middle;\n",
       "    }\n",
       "\n",
       "    .dataframe tbody tr th {\n",
       "        vertical-align: top;\n",
       "    }\n",
       "\n",
       "    .dataframe thead th {\n",
       "        text-align: right;\n",
       "    }\n",
       "</style>\n",
       "<table border=\"1\" class=\"dataframe\">\n",
       "  <thead>\n",
       "    <tr style=\"text-align: right;\">\n",
       "      <th>start_diff</th>\n",
       "      <th>False</th>\n",
       "      <th>True</th>\n",
       "    </tr>\n",
       "    <tr>\n",
       "      <th>Wagons.Tonnes</th>\n",
       "      <th></th>\n",
       "      <th></th>\n",
       "    </tr>\n",
       "  </thead>\n",
       "  <tbody>\n",
       "    <tr>\n",
       "      <th>0.000</th>\n",
       "      <td>300</td>\n",
       "      <td>0</td>\n",
       "    </tr>\n",
       "    <tr>\n",
       "      <th>0.040</th>\n",
       "      <td>12</td>\n",
       "      <td>0</td>\n",
       "    </tr>\n",
       "    <tr>\n",
       "      <th>0.050</th>\n",
       "      <td>8</td>\n",
       "      <td>0</td>\n",
       "    </tr>\n",
       "    <tr>\n",
       "      <th>0.059</th>\n",
       "      <td>1</td>\n",
       "      <td>0</td>\n",
       "    </tr>\n",
       "    <tr>\n",
       "      <th>0.060</th>\n",
       "      <td>38</td>\n",
       "      <td>0</td>\n",
       "    </tr>\n",
       "    <tr>\n",
       "      <th>...</th>\n",
       "      <td>...</td>\n",
       "      <td>...</td>\n",
       "    </tr>\n",
       "    <tr>\n",
       "      <th>11115.320</th>\n",
       "      <td>1</td>\n",
       "      <td>0</td>\n",
       "    </tr>\n",
       "    <tr>\n",
       "      <th>11398.540</th>\n",
       "      <td>1</td>\n",
       "      <td>0</td>\n",
       "    </tr>\n",
       "    <tr>\n",
       "      <th>11489.160</th>\n",
       "      <td>1</td>\n",
       "      <td>0</td>\n",
       "    </tr>\n",
       "    <tr>\n",
       "      <th>43950.000</th>\n",
       "      <td>1</td>\n",
       "      <td>0</td>\n",
       "    </tr>\n",
       "    <tr>\n",
       "      <th>59930.160</th>\n",
       "      <td>0</td>\n",
       "      <td>1</td>\n",
       "    </tr>\n",
       "  </tbody>\n",
       "</table>\n",
       "<p>17703 rows × 2 columns</p>\n",
       "</div>"
      ],
      "text/plain": [
       "start_diff     False  True \n",
       "Wagons.Tonnes              \n",
       "0.000            300      0\n",
       "0.040             12      0\n",
       "0.050              8      0\n",
       "0.059              1      0\n",
       "0.060             38      0\n",
       "...              ...    ...\n",
       "11115.320          1      0\n",
       "11398.540          1      0\n",
       "11489.160          1      0\n",
       "43950.000          1      0\n",
       "59930.160          0      1\n",
       "\n",
       "[17703 rows x 2 columns]"
      ]
     },
     "execution_count": 96,
     "metadata": {},
     "output_type": "execute_result"
    }
   ],
   "source": [
    "train_delay_cancel('Wagons.Tonnes')"
   ]
  },
  {
   "cell_type": "markdown",
   "id": "9971b2d8",
   "metadata": {},
   "source": [
    "10. By actual wagons arrived"
   ]
  },
  {
   "cell_type": "code",
   "execution_count": 97,
   "id": "d635b9f5",
   "metadata": {},
   "outputs": [
    {
     "data": {
      "text/html": [
       "<div>\n",
       "<style scoped>\n",
       "    .dataframe tbody tr th:only-of-type {\n",
       "        vertical-align: middle;\n",
       "    }\n",
       "\n",
       "    .dataframe tbody tr th {\n",
       "        vertical-align: top;\n",
       "    }\n",
       "\n",
       "    .dataframe thead th {\n",
       "        text-align: right;\n",
       "    }\n",
       "</style>\n",
       "<table border=\"1\" class=\"dataframe\">\n",
       "  <thead>\n",
       "    <tr style=\"text-align: right;\">\n",
       "      <th>start_diff</th>\n",
       "      <th>False</th>\n",
       "      <th>True</th>\n",
       "    </tr>\n",
       "    <tr>\n",
       "      <th>Wagons.Actual</th>\n",
       "      <th></th>\n",
       "      <th></th>\n",
       "    </tr>\n",
       "  </thead>\n",
       "  <tbody>\n",
       "    <tr>\n",
       "      <th>1.0</th>\n",
       "      <td>13</td>\n",
       "      <td>0</td>\n",
       "    </tr>\n",
       "    <tr>\n",
       "      <th>2.0</th>\n",
       "      <td>17</td>\n",
       "      <td>1</td>\n",
       "    </tr>\n",
       "    <tr>\n",
       "      <th>3.0</th>\n",
       "      <td>95</td>\n",
       "      <td>2</td>\n",
       "    </tr>\n",
       "    <tr>\n",
       "      <th>4.0</th>\n",
       "      <td>38</td>\n",
       "      <td>0</td>\n",
       "    </tr>\n",
       "    <tr>\n",
       "      <th>5.0</th>\n",
       "      <td>115</td>\n",
       "      <td>6</td>\n",
       "    </tr>\n",
       "    <tr>\n",
       "      <th>...</th>\n",
       "      <td>...</td>\n",
       "      <td>...</td>\n",
       "    </tr>\n",
       "    <tr>\n",
       "      <th>129.0</th>\n",
       "      <td>1</td>\n",
       "      <td>0</td>\n",
       "    </tr>\n",
       "    <tr>\n",
       "      <th>130.0</th>\n",
       "      <td>1</td>\n",
       "      <td>0</td>\n",
       "    </tr>\n",
       "    <tr>\n",
       "      <th>159.0</th>\n",
       "      <td>1</td>\n",
       "      <td>0</td>\n",
       "    </tr>\n",
       "    <tr>\n",
       "      <th>194.0</th>\n",
       "      <td>2</td>\n",
       "      <td>0</td>\n",
       "    </tr>\n",
       "    <tr>\n",
       "      <th>200.0</th>\n",
       "      <td>170</td>\n",
       "      <td>0</td>\n",
       "    </tr>\n",
       "  </tbody>\n",
       "</table>\n",
       "<p>113 rows × 2 columns</p>\n",
       "</div>"
      ],
      "text/plain": [
       "start_diff     False  True \n",
       "Wagons.Actual              \n",
       "1.0               13      0\n",
       "2.0               17      1\n",
       "3.0               95      2\n",
       "4.0               38      0\n",
       "5.0              115      6\n",
       "...              ...    ...\n",
       "129.0              1      0\n",
       "130.0              1      0\n",
       "159.0              1      0\n",
       "194.0              2      0\n",
       "200.0            170      0\n",
       "\n",
       "[113 rows x 2 columns]"
      ]
     },
     "execution_count": 97,
     "metadata": {},
     "output_type": "execute_result"
    }
   ],
   "source": [
    "train_delay_cancel('Wagons.Actual')"
   ]
  },
  {
   "cell_type": "code",
   "execution_count": 98,
   "id": "daccbb94",
   "metadata": {},
   "outputs": [
    {
     "data": {
      "image/png": "[encoded data removed]",
      "text/plain": [
       "<Figure size 640x480 with 1 Axes>"
      ]
     },
     "metadata": {},
     "output_type": "display_data"
    }
   ],
   "source": [
    "stack_viz('Wagons.Actual')"
   ]
  },
  {
   "cell_type": "markdown",
   "id": "dce2e8c8",
   "metadata": {},
   "source": [
    "### Wagon deviation"
   ]
  },
  {
   "cell_type": "code",
   "execution_count": 99,
   "id": "7f401e32",
   "metadata": {},
   "outputs": [],
   "source": [
    "qmaster['wagon_deviation'] = qmaster['Wagons.Actual'] - qmaster['Wagons.Planned']"
   ]
  },
  {
   "cell_type": "code",
   "execution_count": 100,
   "id": "89eb3e2f",
   "metadata": {},
   "outputs": [
    {
     "data": {
      "text/plain": [
       "count    73573.000000\n",
       "mean        -1.763922\n",
       "std         55.278119\n",
       "min      -8300.000000\n",
       "25%          0.000000\n",
       "50%          0.000000\n",
       "75%          0.000000\n",
       "max        100.000000\n",
       "Name: wagon_deviation, dtype: float64"
      ]
     },
     "execution_count": 100,
     "metadata": {},
     "output_type": "execute_result"
    }
   ],
   "source": [
    "qmaster['wagon_deviation'].describe()"
   ]
  },
  {
   "cell_type": "code",
   "execution_count": 101,
   "id": "d21c3f0d",
   "metadata": {},
   "outputs": [
    {
     "data": {
      "text/plain": [
       "False    8148\n",
       "True      137\n",
       "Name: start_diff, dtype: int64"
      ]
     },
     "execution_count": 101,
     "metadata": {},
     "output_type": "execute_result"
    }
   ],
   "source": [
    "qmaster[qmaster['wagon_deviation'] > 0.0]['start_diff'].value_counts()"
   ]
  },
  {
   "cell_type": "markdown",
   "id": "cf97cffd",
   "metadata": {},
   "source": [
    "### Load tonnes deviation"
   ]
  },
  {
   "cell_type": "code",
   "execution_count": 102,
   "id": "6dcca3fd",
   "metadata": {},
   "outputs": [],
   "source": [
    "qmaster['Tonnes_deviation'] = qmaster['Destination.DestinationQuantSum'] - qmaster['NWB trains.SourceTransactionQuantity']"
   ]
  },
  {
   "cell_type": "code",
   "execution_count": 103,
   "id": "946b2f2e",
   "metadata": {},
   "outputs": [
    {
     "data": {
      "text/plain": [
       "count    26984.000000\n",
       "mean       189.739273\n",
       "std        673.969441\n",
       "min     -12588.460000\n",
       "25%        111.270000\n",
       "50%        187.000000\n",
       "75%        282.780000\n",
       "max       9506.000000\n",
       "Name: Tonnes_deviation, dtype: float64"
      ]
     },
     "execution_count": 103,
     "metadata": {},
     "output_type": "execute_result"
    }
   ],
   "source": [
    "qmaster['Tonnes_deviation'].describe()"
   ]
  },
  {
   "cell_type": "code",
   "execution_count": 104,
   "id": "b3a0475c",
   "metadata": {},
   "outputs": [
    {
     "data": {
      "text/plain": [
       "False    19974\n",
       "True      3812\n",
       "Name: start_diff, dtype: int64"
      ]
     },
     "execution_count": 104,
     "metadata": {},
     "output_type": "execute_result"
    }
   ],
   "source": [
    "qmaster[qmaster['Tonnes_deviation'] > 0.0]['start_diff'].value_counts()"
   ]
  },
  {
   "cell_type": "markdown",
   "id": "2e410025",
   "metadata": {},
   "source": [
    "- Around 3812  trains were delayed when actual load was higher than planned.\n",
    "- Around 137 trains were delayes when actual wagons were greater than planned."
   ]
  },
  {
   "cell_type": "markdown",
   "id": "756d37a3",
   "metadata": {},
   "source": [
    "### Categorical plot of train delay wrt wagons and loads"
   ]
  },
  {
   "cell_type": "code",
   "execution_count": 105,
   "id": "f2216180",
   "metadata": {},
   "outputs": [
    {
     "data": {
      "image/png": "[encoded data removed]",
      "text/plain": [
       "<Figure size 800x600 with 1 Axes>"
      ]
     },
     "metadata": {},
     "output_type": "display_data"
    }
   ],
   "source": [
    "# 1. by actual wagons\n",
    "sns.set(style=\"whitegrid\")\n",
    "plt.figure(figsize=(8, 6))\n",
    "sns.pointplot(x='start_diff', y='Wagons.Actual', data=qmaster, capsize=0.2)\n",
    "plt.title('Point Plot of train delay vs. actual wagons Variable')\n",
    "plt.xlabel('train delay')\n",
    "plt.ylabel('actual wagons')\n",
    "plt.show()"
   ]
  },
  {
   "cell_type": "code",
   "execution_count": 106,
   "id": "5812c7ff",
   "metadata": {},
   "outputs": [
    {
     "data": {
      "image/png": "[encoded data removed]",
      "text/plain": [
       "<Figure size 800x600 with 1 Axes>"
      ]
     },
     "metadata": {},
     "output_type": "display_data"
    }
   ],
   "source": [
    "# by wagons devaiations\n",
    "sns.set(style=\"whitegrid\")\n",
    "plt.figure(figsize=(8, 6))\n",
    "sns.pointplot(x='start_diff', y='wagon_deviation', data=qmaster, capsize=0.2)\n",
    "plt.title('Point Plot of train delay vs. wagon_deviation Variable')\n",
    "plt.xlabel('train delay')\n",
    "plt.ylabel('wagon_deviation')\n",
    "plt.show()"
   ]
  },
  {
   "cell_type": "code",
   "execution_count": 108,
   "id": "b745387e",
   "metadata": {},
   "outputs": [
    {
     "data": {
      "image/png": "[encoded data removed]",
      "text/plain": [
       "<Figure size 800x600 with 1 Axes>"
      ]
     },
     "metadata": {},
     "output_type": "display_data"
    }
   ],
   "source": [
    "# 1. by actual tonnes loaded\n",
    "sns.set(style=\"whitegrid\")\n",
    "plt.figure(figsize=(8, 6))\n",
    "sns.pointplot(x='start_diff', y='Destination.DestinationQuantSum', data=qmaster, capsize=0.2)\n",
    "plt.title('Point Plot of train delay vs. Destination.DestinationQuantSum Variable')\n",
    "plt.xlabel('train delay')\n",
    "plt.ylabel('Destination.DestinationQuantSum')\n",
    "plt.show()"
   ]
  },
  {
   "cell_type": "code",
   "execution_count": 54,
   "id": "15e0e6f9",
   "metadata": {},
   "outputs": [
    {
     "data": {
      "image/png": "[encoded data removed]",
      "text/plain": [
       "<Figure size 800x600 with 1 Axes>"
      ]
     },
     "metadata": {},
     "output_type": "display_data"
    }
   ],
   "source": [
    "# by tonnes deviation\n",
    "sns.set(style=\"whitegrid\")\n",
    "plt.figure(figsize=(8, 6))\n",
    "sns.pointplot(x='start_diff', y='Tonnes_deviation', data=qmaster, capsize=0.2)\n",
    "plt.title('Point Plot of train delay vs. Tonnes_deviation Variable')\n",
    "plt.xlabel('train delay')\n",
    "plt.ylabel('Tonnes_deviation')\n",
    "plt.show()"
   ]
  },
  {
   "cell_type": "markdown",
   "id": "eee444d2",
   "metadata": {},
   "source": [
    "- When there are changes in wagons load and number of wagons, and if it's higher then trains are likely to delay"
   ]
  },
  {
   "cell_type": "markdown",
   "id": "59434dd3",
   "metadata": {},
   "source": [
    "- When wagons are higher than planned there good chances that trains are going to delay but it is also not the only reasons, there are other reasons which might be affecting as well. If wagons are much less than planned then it has low chance of delay than if actual wagons were less than 2/3.\n",
    "- In loads on the train analysis, it is found that tonnes loaded are low, even then it can be delayed. It shows that there are muliple reasons for train delays not only one for all cases."
   ]
  },
  {
   "cell_type": "markdown",
   "id": "160063c4",
   "metadata": {},
   "source": [
    "### Multivariate analysis"
   ]
  },
  {
   "cell_type": "code",
   "execution_count": 55,
   "id": "93de78f4",
   "metadata": {},
   "outputs": [
    {
     "data": {
      "text/html": [
       "<div>\n",
       "<style scoped>\n",
       "    .dataframe tbody tr th:only-of-type {\n",
       "        vertical-align: middle;\n",
       "    }\n",
       "\n",
       "    .dataframe tbody tr th {\n",
       "        vertical-align: top;\n",
       "    }\n",
       "\n",
       "    .dataframe thead tr th {\n",
       "        text-align: left;\n",
       "    }\n",
       "\n",
       "    .dataframe thead tr:last-of-type th {\n",
       "        text-align: right;\n",
       "    }\n",
       "</style>\n",
       "<table border=\"1\" class=\"dataframe\">\n",
       "  <thead>\n",
       "    <tr>\n",
       "      <th>BU</th>\n",
       "      <th colspan=\"4\" halign=\"left\">Location105 Location194 Coal</th>\n",
       "      <th colspan=\"5\" halign=\"left\">Location13</th>\n",
       "      <th>Location22 East</th>\n",
       "      <th>...</th>\n",
       "      <th colspan=\"5\" halign=\"left\">Location74 Location194 Coal</th>\n",
       "      <th colspan=\"5\" halign=\"left\">Location80 Location194 Coal</th>\n",
       "    </tr>\n",
       "    <tr>\n",
       "      <th>Customer</th>\n",
       "      <th>Location169</th>\n",
       "      <th colspan=\"3\" halign=\"left\">Location37</th>\n",
       "      <th>Location35</th>\n",
       "      <th colspan=\"3\" halign=\"left\">Location35 EITAG</th>\n",
       "      <th>Location79</th>\n",
       "      <th>Location173</th>\n",
       "      <th>...</th>\n",
       "      <th>Location180</th>\n",
       "      <th colspan=\"2\" halign=\"left\">Location35 EITAG</th>\n",
       "      <th colspan=\"2\" halign=\"left\">Location37</th>\n",
       "      <th colspan=\"2\" halign=\"left\">Location35 EITAG</th>\n",
       "      <th colspan=\"3\" halign=\"left\">Location37</th>\n",
       "    </tr>\n",
       "    <tr>\n",
       "      <th>Route</th>\n",
       "      <th>Location105 to Location125</th>\n",
       "      <th colspan=\"2\" halign=\"left\">Location105 to Location125</th>\n",
       "      <th>Location193 Location162 to Location125</th>\n",
       "      <th>Location13 to Location125</th>\n",
       "      <th colspan=\"2\" halign=\"left\">Location13 to Location125</th>\n",
       "      <th>Location74 to Location125</th>\n",
       "      <th>Location13 to Location125</th>\n",
       "      <th>Location65 to Location125 (Location194)</th>\n",
       "      <th>...</th>\n",
       "      <th>Location74 to Location83 (CoAL)</th>\n",
       "      <th colspan=\"2\" halign=\"left\">Location74 to Location125</th>\n",
       "      <th>Location190 to Location125</th>\n",
       "      <th>Location74 to Location83 (CoAL)</th>\n",
       "      <th colspan=\"2\" halign=\"left\">Location80 to Location125 (84t)</th>\n",
       "      <th>Location162: Location40 from Location80 (84t)</th>\n",
       "      <th>Location217 Location162to Location125 (84t)</th>\n",
       "      <th>Location80 to Location125 (84t)</th>\n",
       "    </tr>\n",
       "    <tr>\n",
       "      <th>Destination.Split</th>\n",
       "      <th>1.0</th>\n",
       "      <th>1.0</th>\n",
       "      <th>2.0</th>\n",
       "      <th>1.0</th>\n",
       "      <th>1.0</th>\n",
       "      <th>1.0</th>\n",
       "      <th>2.0</th>\n",
       "      <th>1.0</th>\n",
       "      <th>1.0</th>\n",
       "      <th>1.0</th>\n",
       "      <th>...</th>\n",
       "      <th>1.0</th>\n",
       "      <th>1.0</th>\n",
       "      <th>2.0</th>\n",
       "      <th>1.0</th>\n",
       "      <th>1.0</th>\n",
       "      <th>1.0</th>\n",
       "      <th>2.0</th>\n",
       "      <th>1.0</th>\n",
       "      <th>1.0</th>\n",
       "      <th>1.0</th>\n",
       "    </tr>\n",
       "    <tr>\n",
       "      <th>start_diff</th>\n",
       "      <th></th>\n",
       "      <th></th>\n",
       "      <th></th>\n",
       "      <th></th>\n",
       "      <th></th>\n",
       "      <th></th>\n",
       "      <th></th>\n",
       "      <th></th>\n",
       "      <th></th>\n",
       "      <th></th>\n",
       "      <th></th>\n",
       "      <th></th>\n",
       "      <th></th>\n",
       "      <th></th>\n",
       "      <th></th>\n",
       "      <th></th>\n",
       "      <th></th>\n",
       "      <th></th>\n",
       "      <th></th>\n",
       "      <th></th>\n",
       "      <th></th>\n",
       "    </tr>\n",
       "  </thead>\n",
       "  <tbody>\n",
       "    <tr>\n",
       "      <th>False</th>\n",
       "      <td>1</td>\n",
       "      <td>4</td>\n",
       "      <td>10</td>\n",
       "      <td>1</td>\n",
       "      <td>1</td>\n",
       "      <td>769</td>\n",
       "      <td>14</td>\n",
       "      <td>2</td>\n",
       "      <td>12</td>\n",
       "      <td>3</td>\n",
       "      <td>...</td>\n",
       "      <td>1</td>\n",
       "      <td>7257</td>\n",
       "      <td>3</td>\n",
       "      <td>285</td>\n",
       "      <td>40</td>\n",
       "      <td>582</td>\n",
       "      <td>7</td>\n",
       "      <td>11</td>\n",
       "      <td>3</td>\n",
       "      <td>8</td>\n",
       "    </tr>\n",
       "    <tr>\n",
       "      <th>True</th>\n",
       "      <td>0</td>\n",
       "      <td>0</td>\n",
       "      <td>0</td>\n",
       "      <td>0</td>\n",
       "      <td>0</td>\n",
       "      <td>6</td>\n",
       "      <td>0</td>\n",
       "      <td>0</td>\n",
       "      <td>0</td>\n",
       "      <td>0</td>\n",
       "      <td>...</td>\n",
       "      <td>0</td>\n",
       "      <td>62</td>\n",
       "      <td>0</td>\n",
       "      <td>0</td>\n",
       "      <td>0</td>\n",
       "      <td>16</td>\n",
       "      <td>1</td>\n",
       "      <td>1</td>\n",
       "      <td>0</td>\n",
       "      <td>7</td>\n",
       "    </tr>\n",
       "  </tbody>\n",
       "</table>\n",
       "<p>2 rows × 56 columns</p>\n",
       "</div>"
      ],
      "text/plain": [
       "BU                Location105 Location194 Coal                                 \\\n",
       "Customer                           Location169                 Location37       \n",
       "Route               Location105 to Location125 Location105 to Location125       \n",
       "Destination.Split                          1.0                        1.0 2.0   \n",
       "start_diff                                                                      \n",
       "False                                        1                          4  10   \n",
       "True                                         0                          0   0   \n",
       "\n",
       "BU                                                        \\\n",
       "Customer                                                   \n",
       "Route             Location193 Location162 to Location125   \n",
       "Destination.Split                                    1.0   \n",
       "start_diff                                                 \n",
       "False                                                  1   \n",
       "True                                                   0   \n",
       "\n",
       "BU                               Location13                                \\\n",
       "Customer                         Location35          Location35 EITAG       \n",
       "Route             Location13 to Location125 Location13 to Location125       \n",
       "Destination.Split                       1.0                       1.0 2.0   \n",
       "start_diff                                                                  \n",
       "False                                     1                       769  14   \n",
       "True                                      0                         6   0   \n",
       "\n",
       "BU                                                                     \\\n",
       "Customer                                                   Location79   \n",
       "Route             Location74 to Location125 Location13 to Location125   \n",
       "Destination.Split                       1.0                       1.0   \n",
       "start_diff                                                              \n",
       "False                                     2                        12   \n",
       "True                                      0                         0   \n",
       "\n",
       "BU                                        Location22 East  ...  \\\n",
       "Customer                                      Location173  ...   \n",
       "Route             Location65 to Location125 (Location194)  ...   \n",
       "Destination.Split                                     1.0  ...   \n",
       "start_diff                                                 ...   \n",
       "False                                                   3  ...   \n",
       "True                                                    0  ...   \n",
       "\n",
       "BU                    Location74 Location194 Coal                            \\\n",
       "Customer                              Location180          Location35 EITAG   \n",
       "Route             Location74 to Location83 (CoAL) Location74 to Location125   \n",
       "Destination.Split                             1.0                       1.0   \n",
       "start_diff                                                                    \n",
       "False                                           1                      7257   \n",
       "True                                            0                        62   \n",
       "\n",
       "BU                                                \\\n",
       "Customer                              Location37   \n",
       "Route                 Location190 to Location125   \n",
       "Destination.Split 2.0                        1.0   \n",
       "start_diff                                         \n",
       "False               3                        285   \n",
       "True                0                          0   \n",
       "\n",
       "BU                                                 \\\n",
       "Customer                                            \n",
       "Route             Location74 to Location83 (CoAL)   \n",
       "Destination.Split                             1.0   \n",
       "start_diff                                          \n",
       "False                                          40   \n",
       "True                                            0   \n",
       "\n",
       "BU                    Location80 Location194 Coal      \\\n",
       "Customer                         Location35 EITAG       \n",
       "Route             Location80 to Location125 (84t)       \n",
       "Destination.Split                             1.0 2.0   \n",
       "start_diff                                              \n",
       "False                                         582   7   \n",
       "True                                           16   1   \n",
       "\n",
       "BU                                                               \\\n",
       "Customer                                             Location37   \n",
       "Route             Location162: Location40 from Location80 (84t)   \n",
       "Destination.Split                                           1.0   \n",
       "start_diff                                                        \n",
       "False                                                        11   \n",
       "True                                                          1   \n",
       "\n",
       "BU                                                             \\\n",
       "Customer                                                        \n",
       "Route             Location217 Location162to Location125 (84t)   \n",
       "Destination.Split                                         1.0   \n",
       "start_diff                                                      \n",
       "False                                                       3   \n",
       "True                                                        0   \n",
       "\n",
       "BU                                                 \n",
       "Customer                                           \n",
       "Route             Location80 to Location125 (84t)  \n",
       "Destination.Split                             1.0  \n",
       "start_diff                                         \n",
       "False                                           8  \n",
       "True                                            7  \n",
       "\n",
       "[2 rows x 56 columns]"
      ]
     },
     "execution_count": 55,
     "metadata": {},
     "output_type": "execute_result"
    }
   ],
   "source": [
    "# analyse mulitple columns to see intercolumns factors\n",
    "multi_cross_tab = pd.crosstab(qmaster['start_diff'], [qmaster['BU'], qmaster['Customer'], qmaster['Route'], qmaster['Destination.Split']])\n",
    "multi_cross_tab"
   ]
  },
  {
   "cell_type": "markdown",
   "id": "81c3aa44",
   "metadata": {},
   "source": [
    "- Observations:\n",
    "\n",
    "1. Analysis observes multiple features to identify train delay. there are some customers, route and number of items as a load can affact the potential delay\n",
    "2. Most numbers of delay happened with customer named `Location35 EITAG` and it has different routes, so major cause of delay could be from customer side\n",
    "3. Majority of delay happened with only 1 customer."
   ]
  },
  {
   "cell_type": "code",
   "execution_count": 109,
   "id": "2b555813",
   "metadata": {},
   "outputs": [
    {
     "data": {
      "text/html": [
       "<div>\n",
       "<style scoped>\n",
       "    .dataframe tbody tr th:only-of-type {\n",
       "        vertical-align: middle;\n",
       "    }\n",
       "\n",
       "    .dataframe tbody tr th {\n",
       "        vertical-align: top;\n",
       "    }\n",
       "\n",
       "    .dataframe thead tr th {\n",
       "        text-align: left;\n",
       "    }\n",
       "\n",
       "    .dataframe thead tr:last-of-type th {\n",
       "        text-align: right;\n",
       "    }\n",
       "</style>\n",
       "<table border=\"1\" class=\"dataframe\">\n",
       "  <thead>\n",
       "    <tr>\n",
       "      <th>Cancelled.ReasonGroup</th>\n",
       "      <th colspan=\"7\" halign=\"left\">Cancelled</th>\n",
       "      <th>Location172 Decline</th>\n",
       "      <th>Location172 NO Prelim</th>\n",
       "      <th>Location172 No Prelim-Not Approved</th>\n",
       "    </tr>\n",
       "    <tr>\n",
       "      <th>Cancelled.ReasonSubgroup</th>\n",
       "      <th>BU</th>\n",
       "      <th>Client</th>\n",
       "      <th>Location125</th>\n",
       "      <th>Location172</th>\n",
       "      <th>Location38</th>\n",
       "      <th>Logistics</th>\n",
       "      <th>Marketing</th>\n",
       "      <th>Location172</th>\n",
       "      <th>Location172</th>\n",
       "      <th>Location172</th>\n",
       "    </tr>\n",
       "    <tr>\n",
       "      <th>start_diff</th>\n",
       "      <th></th>\n",
       "      <th></th>\n",
       "      <th></th>\n",
       "      <th></th>\n",
       "      <th></th>\n",
       "      <th></th>\n",
       "      <th></th>\n",
       "      <th></th>\n",
       "      <th></th>\n",
       "      <th></th>\n",
       "    </tr>\n",
       "  </thead>\n",
       "  <tbody>\n",
       "    <tr>\n",
       "      <th>False</th>\n",
       "      <td>738</td>\n",
       "      <td>577</td>\n",
       "      <td>29</td>\n",
       "      <td>3649</td>\n",
       "      <td>30</td>\n",
       "      <td>13</td>\n",
       "      <td>79</td>\n",
       "      <td>2</td>\n",
       "      <td>18</td>\n",
       "      <td>4</td>\n",
       "    </tr>\n",
       "    <tr>\n",
       "      <th>True</th>\n",
       "      <td>7</td>\n",
       "      <td>5</td>\n",
       "      <td>0</td>\n",
       "      <td>91</td>\n",
       "      <td>0</td>\n",
       "      <td>0</td>\n",
       "      <td>1</td>\n",
       "      <td>0</td>\n",
       "      <td>0</td>\n",
       "      <td>0</td>\n",
       "    </tr>\n",
       "  </tbody>\n",
       "</table>\n",
       "</div>"
      ],
      "text/plain": [
       "Cancelled.ReasonGroup    Cancelled                                            \\\n",
       "Cancelled.ReasonSubgroup        BU Client Location125 Location172 Location38   \n",
       "start_diff                                                                     \n",
       "False                          738    577          29        3649         30   \n",
       "True                             7      5           0          91          0   \n",
       "\n",
       "Cancelled.ReasonGroup                        Location172 Decline  \\\n",
       "Cancelled.ReasonSubgroup Logistics Marketing         Location172   \n",
       "start_diff                                                         \n",
       "False                           13        79                   2   \n",
       "True                             0         1                   0   \n",
       "\n",
       "Cancelled.ReasonGroup    Location172 NO Prelim  \\\n",
       "Cancelled.ReasonSubgroup           Location172   \n",
       "start_diff                                       \n",
       "False                                       18   \n",
       "True                                         0   \n",
       "\n",
       "Cancelled.ReasonGroup    Location172 No Prelim-Not Approved  \n",
       "Cancelled.ReasonSubgroup                        Location172  \n",
       "start_diff                                                   \n",
       "False                                                     4  \n",
       "True                                                      0  "
      ]
     },
     "execution_count": 109,
     "metadata": {},
     "output_type": "execute_result"
    }
   ],
   "source": [
    "# analyze by cancel reasons with multicross_tab\n",
    "multi_cancel_cross_tab = pd.crosstab(qmaster['start_diff'], [qmaster['Cancelled.ReasonGroup'], qmaster['Cancelled.ReasonSubgroup']])\n",
    "multi_cancel_cross_tab"
   ]
  },
  {
   "cell_type": "markdown",
   "id": "2d96a7f8",
   "metadata": {},
   "source": [
    "- Observations:\n",
    "\n",
    "1. cancel reason `Location172` AND cancel subgroup reason `Marketing` are the consequence of delayed trains. well, it sounds contradactory that if trains are delayed then why are they cancelled as well. but here assume that, delay happens first then cancellation."
   ]
  },
  {
   "cell_type": "markdown",
   "id": "d01f7b71",
   "metadata": {},
   "source": [
    "### Analysis by wagons tipped and bypassed"
   ]
  },
  {
   "cell_type": "markdown",
   "id": "9710c5d7",
   "metadata": {},
   "source": [
    "1. By wagons tipped"
   ]
  },
  {
   "cell_type": "code",
   "execution_count": 122,
   "id": "b5a14c3a",
   "metadata": {},
   "outputs": [
    {
     "name": "stderr",
     "output_type": "stream",
     "text": [
      "c:\\Users\\Avi\\.conda\\envs\\mlcollab\\lib\\site-packages\\seaborn\\algorithms.py:98: RuntimeWarning: Mean of empty slice\n",
      "  boot_dist.append(f(*sample, **func_kwargs))\n"
     ]
    },
    {
     "data": {
      "image/png": "[encoded data removed]",
      "text/plain": [
       "<Figure size 800x600 with 1 Axes>"
      ]
     },
     "metadata": {},
     "output_type": "display_data"
    }
   ],
   "source": [
    "sns.set(style=\"whitegrid\")\n",
    "plt.figure(figsize=(8, 6))\n",
    "sns.pointplot(x='start_diff', y='Wagons.Tipped', data=qmaster, capsize=0.2)\n",
    "plt.title('Point Plot of train delay vs. Wagons.Tipped Variable')\n",
    "plt.xlabel('train delay')\n",
    "plt.ylabel('Wagons.Tipped')\n",
    "plt.show()"
   ]
  },
  {
   "cell_type": "markdown",
   "id": "229f7489",
   "metadata": {},
   "source": [
    "2. By wagons bypassed"
   ]
  },
  {
   "cell_type": "code",
   "execution_count": 123,
   "id": "abc453fe",
   "metadata": {},
   "outputs": [
    {
     "name": "stderr",
     "output_type": "stream",
     "text": [
      "c:\\Users\\Avi\\.conda\\envs\\mlcollab\\lib\\site-packages\\seaborn\\algorithms.py:98: RuntimeWarning: Mean of empty slice\n",
      "  boot_dist.append(f(*sample, **func_kwargs))\n"
     ]
    },
    {
     "data": {
      "image/png": "[encoded data removed]",
      "text/plain": [
       "<Figure size 800x600 with 1 Axes>"
      ]
     },
     "metadata": {},
     "output_type": "display_data"
    }
   ],
   "source": [
    "sns.set(style=\"whitegrid\")\n",
    "plt.figure(figsize=(8, 6))\n",
    "sns.pointplot(x='start_diff', y='Wagons.Bypassed', data=qmaster, capsize=0.2)\n",
    "plt.title('Point Plot of train delay vs. Wagons.Bypassed Variable')\n",
    "plt.xlabel('train delay')\n",
    "plt.ylabel('Wagons.Bypassed')\n",
    "plt.show()"
   ]
  },
  {
   "cell_type": "markdown",
   "id": "83c1badf",
   "metadata": {},
   "source": [
    "- If wagons are bypassed are low than train is highly likely while if bypassed wagons are high then trains are not likely to be delayed"
   ]
  },
  {
   "cell_type": "markdown",
   "id": "cd728080",
   "metadata": {},
   "source": [
    "## Analysis by weather data and load shedding"
   ]
  },
  {
   "cell_type": "code",
   "execution_count": 125,
   "id": "ae8f8b6e",
   "metadata": {},
   "outputs": [],
   "source": [
    "weather_df = pd.read_csv(\"external data\\dataexport_20230811T142835.csv\")\n",
    "load_df = pd.read_csv(\"data\\Eskom Loadshedding History.csv\")"
   ]
  },
  {
   "cell_type": "markdown",
   "id": "2799ede3",
   "metadata": {},
   "source": [
    "1. Let's check if load shedding time and train delay time matches or not"
   ]
  },
  {
   "cell_type": "code",
   "execution_count": 139,
   "id": "0682a275",
   "metadata": {},
   "outputs": [],
   "source": [
    "# convert created_at to the datetime\n",
    "load_df['created_at'] = pd.to_datetime(load_df['created_at'])"
   ]
  },
  {
   "cell_type": "code",
   "execution_count": 140,
   "id": "a98d84ad",
   "metadata": {},
   "outputs": [
    {
     "data": {
      "text/plain": [
       "0     2023-03-23 05:00:00\n",
       "1     2023-03-22 16:00:00\n",
       "2     2023-03-22 05:00:00\n",
       "3     2023-03-20 11:00:00\n",
       "4     2023-03-20 05:00:00\n",
       "              ...        \n",
       "887   2015-06-02 07:00:00\n",
       "888   2015-05-02 16:12:00\n",
       "889   2015-05-02 08:00:00\n",
       "890   2015-05-02 07:00:00\n",
       "891   2015-04-02 14:45:00\n",
       "Name: created_at, Length: 892, dtype: datetime64[ns]"
      ]
     },
     "execution_count": 140,
     "metadata": {},
     "output_type": "execute_result"
    }
   ],
   "source": [
    "load_df['created_at']"
   ]
  },
  {
   "cell_type": "code",
   "execution_count": 146,
   "id": "c7c67de3",
   "metadata": {},
   "outputs": [
    {
     "name": "stdout",
     "output_type": "stream",
     "text": [
      "<class 'pandas.core.frame.DataFrame'>\n",
      "RangeIndex: 892 entries, 0 to 891\n",
      "Data columns (total 3 columns):\n",
      " #   Column                       Non-Null Count  Dtype         \n",
      "---  ------                       --------------  -----         \n",
      " 0   created_at                   892 non-null    datetime64[ns]\n",
      " 1   stage                        892 non-null    int64         \n",
      " 2   Information on Loadshedding  1 non-null      object        \n",
      "dtypes: datetime64[ns](1), int64(1), object(1)\n",
      "memory usage: 21.0+ KB\n"
     ]
    }
   ],
   "source": [
    "load_df.info()"
   ]
  },
  {
   "cell_type": "code",
   "execution_count": 145,
   "id": "e53004cf",
   "metadata": {},
   "outputs": [],
   "source": [
    "qmaster_delay = qmaster[qmaster['start_diff'] == True]['NWB trains.NWBConfirmedDate']"
   ]
  },
  {
   "cell_type": "code",
   "execution_count": 147,
   "id": "74997b01",
   "metadata": {},
   "outputs": [],
   "source": [
    "merged_df = pd.merge(load_df, qmaster_delay, left_on='created_at', right_on='NWB trains.NWBConfirmedDate', how='inner')"
   ]
  },
  {
   "cell_type": "code",
   "execution_count": 154,
   "id": "b8fe2db2",
   "metadata": {},
   "outputs": [
    {
     "data": {
      "text/html": [
       "<div>\n",
       "<style scoped>\n",
       "    .dataframe tbody tr th:only-of-type {\n",
       "        vertical-align: middle;\n",
       "    }\n",
       "\n",
       "    .dataframe tbody tr th {\n",
       "        vertical-align: top;\n",
       "    }\n",
       "\n",
       "    .dataframe thead th {\n",
       "        text-align: right;\n",
       "    }\n",
       "</style>\n",
       "<table border=\"1\" class=\"dataframe\">\n",
       "  <thead>\n",
       "    <tr style=\"text-align: right;\">\n",
       "      <th></th>\n",
       "      <th>created_at</th>\n",
       "      <th>stage</th>\n",
       "      <th>Information on Loadshedding</th>\n",
       "      <th>NWB trains.NWBConfirmedDate</th>\n",
       "    </tr>\n",
       "  </thead>\n",
       "  <tbody>\n",
       "    <tr>\n",
       "      <th>0</th>\n",
       "      <td>2022-11-10</td>\n",
       "      <td>0</td>\n",
       "      <td>NaN</td>\n",
       "      <td>2022-11-10</td>\n",
       "    </tr>\n",
       "    <tr>\n",
       "      <th>1</th>\n",
       "      <td>2022-07-23</td>\n",
       "      <td>0</td>\n",
       "      <td>NaN</td>\n",
       "      <td>2022-07-23</td>\n",
       "    </tr>\n",
       "  </tbody>\n",
       "</table>\n",
       "</div>"
      ],
      "text/plain": [
       "  created_at  stage Information on Loadshedding NWB trains.NWBConfirmedDate\n",
       "0 2022-11-10      0                         NaN                  2022-11-10\n",
       "1 2022-07-23      0                         NaN                  2022-07-23"
      ]
     },
     "execution_count": 154,
     "metadata": {},
     "output_type": "execute_result"
    }
   ],
   "source": [
    "# dates when both train delay and load shedding happened \n",
    "merged_df"
   ]
  },
  {
   "cell_type": "markdown",
   "id": "d33b0bad",
   "metadata": {},
   "source": [
    "- Both train delays are of customer `Location35 EITAG` so if load shedding caused the train delay can't be confirmed"
   ]
  },
  {
   "cell_type": "markdown",
   "id": "5ad8621a",
   "metadata": {},
   "source": [
    "2. Analysis by weather factors"
   ]
  },
  {
   "cell_type": "code",
   "execution_count": 157,
   "id": "e4dca82a",
   "metadata": {},
   "outputs": [],
   "source": [
    "wea_df = weather_df[9:]"
   ]
  },
  {
   "cell_type": "code",
   "execution_count": 163,
   "id": "7c816381",
   "metadata": {},
   "outputs": [
    {
     "data": {
      "text/html": [
       "<div>\n",
       "<style scoped>\n",
       "    .dataframe tbody tr th:only-of-type {\n",
       "        vertical-align: middle;\n",
       "    }\n",
       "\n",
       "    .dataframe tbody tr th {\n",
       "        vertical-align: top;\n",
       "    }\n",
       "\n",
       "    .dataframe thead th {\n",
       "        text-align: right;\n",
       "    }\n",
       "</style>\n",
       "<table border=\"1\" class=\"dataframe\">\n",
       "  <thead>\n",
       "    <tr style=\"text-align: right;\">\n",
       "      <th></th>\n",
       "      <th>location</th>\n",
       "      <th>Basel</th>\n",
       "      <th>Basel.1</th>\n",
       "      <th>Basel.2</th>\n",
       "      <th>Basel.3</th>\n",
       "      <th>Basel.4</th>\n",
       "      <th>Basel.5</th>\n",
       "    </tr>\n",
       "  </thead>\n",
       "  <tbody>\n",
       "    <tr>\n",
       "      <th>0</th>\n",
       "      <td>lat</td>\n",
       "      <td>47.75000</td>\n",
       "      <td>47.75000</td>\n",
       "      <td>47.75000</td>\n",
       "      <td>47.75000</td>\n",
       "      <td>47.75000</td>\n",
       "      <td>47.75000</td>\n",
       "    </tr>\n",
       "    <tr>\n",
       "      <th>1</th>\n",
       "      <td>lon</td>\n",
       "      <td>7.50000</td>\n",
       "      <td>7.50000</td>\n",
       "      <td>7.50000</td>\n",
       "      <td>7.50000</td>\n",
       "      <td>7.50000</td>\n",
       "      <td>7.50000</td>\n",
       "    </tr>\n",
       "    <tr>\n",
       "      <th>2</th>\n",
       "      <td>asl</td>\n",
       "      <td>363.653</td>\n",
       "      <td>363.653</td>\n",
       "      <td>363.653</td>\n",
       "      <td>363.653</td>\n",
       "      <td>363.653</td>\n",
       "      <td>363.653</td>\n",
       "    </tr>\n",
       "    <tr>\n",
       "      <th>3</th>\n",
       "      <td>variable</td>\n",
       "      <td>Temperature</td>\n",
       "      <td>Wind Gust</td>\n",
       "      <td>Cloud Cover Total</td>\n",
       "      <td>Cloud Cover High</td>\n",
       "      <td>Cloud Cover Medium</td>\n",
       "      <td>Cloud Cover Low</td>\n",
       "    </tr>\n",
       "    <tr>\n",
       "      <th>4</th>\n",
       "      <td>unit</td>\n",
       "      <td>°C</td>\n",
       "      <td>km/h</td>\n",
       "      <td>%</td>\n",
       "      <td>%</td>\n",
       "      <td>%</td>\n",
       "      <td>%</td>\n",
       "    </tr>\n",
       "    <tr>\n",
       "      <th>5</th>\n",
       "      <td>level</td>\n",
       "      <td>2 m elevation corrected</td>\n",
       "      <td>sfc</td>\n",
       "      <td>sfc</td>\n",
       "      <td>high cld lay</td>\n",
       "      <td>mid cld lay</td>\n",
       "      <td>low cld lay</td>\n",
       "    </tr>\n",
       "    <tr>\n",
       "      <th>6</th>\n",
       "      <td>resolution</td>\n",
       "      <td>hourly</td>\n",
       "      <td>hourly</td>\n",
       "      <td>hourly</td>\n",
       "      <td>hourly</td>\n",
       "      <td>hourly</td>\n",
       "      <td>hourly</td>\n",
       "    </tr>\n",
       "    <tr>\n",
       "      <th>7</th>\n",
       "      <td>aggregation</td>\n",
       "      <td>None</td>\n",
       "      <td>None</td>\n",
       "      <td>None</td>\n",
       "      <td>None</td>\n",
       "      <td>None</td>\n",
       "      <td>None</td>\n",
       "    </tr>\n",
       "  </tbody>\n",
       "</table>\n",
       "</div>"
      ],
      "text/plain": [
       "      location                    Basel    Basel.1            Basel.2  \\\n",
       "0          lat                 47.75000   47.75000           47.75000   \n",
       "1          lon                  7.50000    7.50000            7.50000   \n",
       "2          asl                  363.653    363.653            363.653   \n",
       "3     variable              Temperature  Wind Gust  Cloud Cover Total   \n",
       "4         unit                       °C       km/h                  %   \n",
       "5        level  2 m elevation corrected        sfc                sfc   \n",
       "6   resolution                   hourly     hourly             hourly   \n",
       "7  aggregation                     None       None               None   \n",
       "\n",
       "            Basel.3             Basel.4          Basel.5  \n",
       "0          47.75000            47.75000         47.75000  \n",
       "1           7.50000             7.50000          7.50000  \n",
       "2           363.653             363.653          363.653  \n",
       "3  Cloud Cover High  Cloud Cover Medium  Cloud Cover Low  \n",
       "4                 %                   %                %  \n",
       "5      high cld lay         mid cld lay      low cld lay  \n",
       "6            hourly              hourly           hourly  \n",
       "7              None                None             None  "
      ]
     },
     "execution_count": 163,
     "metadata": {},
     "output_type": "execute_result"
    }
   ],
   "source": [
    "# weather measurements\n",
    "weather_df.head(8)"
   ]
  },
  {
   "cell_type": "code",
   "execution_count": 158,
   "id": "a6b9eedc",
   "metadata": {},
   "outputs": [
    {
     "data": {
      "text/html": [
       "<div>\n",
       "<style scoped>\n",
       "    .dataframe tbody tr th:only-of-type {\n",
       "        vertical-align: middle;\n",
       "    }\n",
       "\n",
       "    .dataframe tbody tr th {\n",
       "        vertical-align: top;\n",
       "    }\n",
       "\n",
       "    .dataframe thead th {\n",
       "        text-align: right;\n",
       "    }\n",
       "</style>\n",
       "<table border=\"1\" class=\"dataframe\">\n",
       "  <thead>\n",
       "    <tr style=\"text-align: right;\">\n",
       "      <th></th>\n",
       "      <th>location</th>\n",
       "      <th>Basel</th>\n",
       "      <th>Basel.1</th>\n",
       "      <th>Basel.2</th>\n",
       "      <th>Basel.3</th>\n",
       "      <th>Basel.4</th>\n",
       "      <th>Basel.5</th>\n",
       "    </tr>\n",
       "  </thead>\n",
       "  <tbody>\n",
       "    <tr>\n",
       "      <th>9</th>\n",
       "      <td>20090101T0000</td>\n",
       "      <td>0.9202454</td>\n",
       "      <td>9.72</td>\n",
       "      <td>39.0</td>\n",
       "      <td>0.0</td>\n",
       "      <td>30.0</td>\n",
       "      <td>39.0</td>\n",
       "    </tr>\n",
       "    <tr>\n",
       "      <th>10</th>\n",
       "      <td>20090101T0100</td>\n",
       "      <td>0.6202454</td>\n",
       "      <td>8.28</td>\n",
       "      <td>41.0</td>\n",
       "      <td>0.0</td>\n",
       "      <td>35.0</td>\n",
       "      <td>41.0</td>\n",
       "    </tr>\n",
       "    <tr>\n",
       "      <th>11</th>\n",
       "      <td>20090101T0200</td>\n",
       "      <td>0.3702454</td>\n",
       "      <td>9.0</td>\n",
       "      <td>61.0</td>\n",
       "      <td>0.0</td>\n",
       "      <td>39.0</td>\n",
       "      <td>61.0</td>\n",
       "    </tr>\n",
       "    <tr>\n",
       "      <th>12</th>\n",
       "      <td>20090101T0300</td>\n",
       "      <td>0.9002454</td>\n",
       "      <td>9.36</td>\n",
       "      <td>43.0</td>\n",
       "      <td>0.0</td>\n",
       "      <td>19.0</td>\n",
       "      <td>43.0</td>\n",
       "    </tr>\n",
       "    <tr>\n",
       "      <th>13</th>\n",
       "      <td>20090101T0400</td>\n",
       "      <td>0.6902454</td>\n",
       "      <td>9.36</td>\n",
       "      <td>67.0</td>\n",
       "      <td>0.0</td>\n",
       "      <td>15.0</td>\n",
       "      <td>67.0</td>\n",
       "    </tr>\n",
       "  </tbody>\n",
       "</table>\n",
       "</div>"
      ],
      "text/plain": [
       "         location      Basel Basel.1 Basel.2 Basel.3 Basel.4 Basel.5\n",
       "9   20090101T0000  0.9202454    9.72    39.0     0.0    30.0    39.0\n",
       "10  20090101T0100  0.6202454    8.28    41.0     0.0    35.0    41.0\n",
       "11  20090101T0200  0.3702454     9.0    61.0     0.0    39.0    61.0\n",
       "12  20090101T0300  0.9002454    9.36    43.0     0.0    19.0    43.0\n",
       "13  20090101T0400  0.6902454    9.36    67.0     0.0    15.0    67.0"
      ]
     },
     "execution_count": 158,
     "metadata": {},
     "output_type": "execute_result"
    }
   ],
   "source": [
    "wea_df.head()"
   ]
  },
  {
   "cell_type": "code",
   "execution_count": 159,
   "id": "7c08738b",
   "metadata": {},
   "outputs": [
    {
     "name": "stderr",
     "output_type": "stream",
     "text": [
      "C:\\Users\\Avi\\AppData\\Local\\Temp\\ipykernel_32600\\382147537.py:1: SettingWithCopyWarning: \n",
      "A value is trying to be set on a copy of a slice from a DataFrame.\n",
      "Try using .loc[row_indexer,col_indexer] = value instead\n",
      "\n",
      "See the caveats in the documentation: https://pandas.pydata.org/pandas-docs/stable/user_guide/indexing.html#returning-a-view-versus-a-copy\n",
      "  wea_df['location'] = pd.to_datetime(wea_df['location'])\n"
     ]
    }
   ],
   "source": [
    "# convert datetime object column into datetime\n",
    "wea_df['location'] = pd.to_datetime(wea_df['location'])"
   ]
  },
  {
   "cell_type": "code",
   "execution_count": 168,
   "id": "7f57dda3",
   "metadata": {},
   "outputs": [],
   "source": [
    "# merged dataframe of temp variation with train delay time stamps\n",
    "merged_weather_df = pd.merge(wea_df, qmaster_delay, left_on='location', right_on='NWB trains.NWBConfirmedDate', how='left')"
   ]
  },
  {
   "cell_type": "code",
   "execution_count": 177,
   "id": "81a14b22",
   "metadata": {},
   "outputs": [
    {
     "data": {
      "text/html": [
       "<div>\n",
       "<style scoped>\n",
       "    .dataframe tbody tr th:only-of-type {\n",
       "        vertical-align: middle;\n",
       "    }\n",
       "\n",
       "    .dataframe tbody tr th {\n",
       "        vertical-align: top;\n",
       "    }\n",
       "\n",
       "    .dataframe thead th {\n",
       "        text-align: right;\n",
       "    }\n",
       "</style>\n",
       "<table border=\"1\" class=\"dataframe\">\n",
       "  <thead>\n",
       "    <tr style=\"text-align: right;\">\n",
       "      <th></th>\n",
       "      <th>location</th>\n",
       "      <th>Basel</th>\n",
       "      <th>Basel.1</th>\n",
       "      <th>Basel.2</th>\n",
       "      <th>Basel.3</th>\n",
       "      <th>Basel.4</th>\n",
       "      <th>Basel.5</th>\n",
       "      <th>NWB trains.NWBConfirmedDate</th>\n",
       "    </tr>\n",
       "  </thead>\n",
       "  <tbody>\n",
       "    <tr>\n",
       "      <th>42927</th>\n",
       "      <td>2013-11-24 15:00:00</td>\n",
       "      <td>5.7602453</td>\n",
       "      <td>33.839996</td>\n",
       "      <td>76.0</td>\n",
       "      <td>0.0</td>\n",
       "      <td>39.0</td>\n",
       "      <td>76.0</td>\n",
       "      <td>2013-11-24 15:00:00</td>\n",
       "    </tr>\n",
       "    <tr>\n",
       "      <th>43080</th>\n",
       "      <td>2013-12-01 00:00:00</td>\n",
       "      <td>-1.0697546</td>\n",
       "      <td>14.04</td>\n",
       "      <td>18.0</td>\n",
       "      <td>0.0</td>\n",
       "      <td>2.0</td>\n",
       "      <td>18.0</td>\n",
       "      <td>2013-12-01 00:00:00</td>\n",
       "    </tr>\n",
       "    <tr>\n",
       "      <th>46224</th>\n",
       "      <td>2014-04-11 00:00:00</td>\n",
       "      <td>8.780245</td>\n",
       "      <td>12.24</td>\n",
       "      <td>0.0</td>\n",
       "      <td>0.0</td>\n",
       "      <td>0.0</td>\n",
       "      <td>0.0</td>\n",
       "      <td>2014-04-11 00:00:00</td>\n",
       "    </tr>\n",
       "    <tr>\n",
       "      <th>46272</th>\n",
       "      <td>2014-04-13 00:00:00</td>\n",
       "      <td>14.300245</td>\n",
       "      <td>14.4</td>\n",
       "      <td>84.0</td>\n",
       "      <td>98.0</td>\n",
       "      <td>84.0</td>\n",
       "      <td>22.0</td>\n",
       "      <td>2014-04-13 00:00:00</td>\n",
       "    </tr>\n",
       "    <tr>\n",
       "      <th>46273</th>\n",
       "      <td>2014-04-13 00:00:00</td>\n",
       "      <td>14.300245</td>\n",
       "      <td>14.4</td>\n",
       "      <td>84.0</td>\n",
       "      <td>98.0</td>\n",
       "      <td>84.0</td>\n",
       "      <td>22.0</td>\n",
       "      <td>2014-04-13 00:00:00</td>\n",
       "    </tr>\n",
       "    <tr>\n",
       "      <th>...</th>\n",
       "      <td>...</td>\n",
       "      <td>...</td>\n",
       "      <td>...</td>\n",
       "      <td>...</td>\n",
       "      <td>...</td>\n",
       "      <td>...</td>\n",
       "      <td>...</td>\n",
       "      <td>...</td>\n",
       "    </tr>\n",
       "    <tr>\n",
       "      <th>109197</th>\n",
       "      <td>2020-10-10 00:00:00</td>\n",
       "      <td>13.360246</td>\n",
       "      <td>18.72</td>\n",
       "      <td>72.0</td>\n",
       "      <td>0.0</td>\n",
       "      <td>72.0</td>\n",
       "      <td>7.0</td>\n",
       "      <td>2020-10-10 00:00:00</td>\n",
       "    </tr>\n",
       "    <tr>\n",
       "      <th>109653</th>\n",
       "      <td>2020-10-29 00:00:00</td>\n",
       "      <td>12.530245</td>\n",
       "      <td>34.92</td>\n",
       "      <td>93.0</td>\n",
       "      <td>100.0</td>\n",
       "      <td>93.0</td>\n",
       "      <td>24.0</td>\n",
       "      <td>2020-10-29 00:00:00</td>\n",
       "    </tr>\n",
       "    <tr>\n",
       "      <th>109725</th>\n",
       "      <td>2020-11-01 00:00:00</td>\n",
       "      <td>8.070246</td>\n",
       "      <td>19.44</td>\n",
       "      <td>18.0</td>\n",
       "      <td>25.0</td>\n",
       "      <td>18.0</td>\n",
       "      <td>0.0</td>\n",
       "      <td>2020-11-01 00:00:00</td>\n",
       "    </tr>\n",
       "    <tr>\n",
       "      <th>109773</th>\n",
       "      <td>2020-11-03 00:00:00</td>\n",
       "      <td>16.300245</td>\n",
       "      <td>18.72</td>\n",
       "      <td>78.0</td>\n",
       "      <td>0.0</td>\n",
       "      <td>78.0</td>\n",
       "      <td>53.0</td>\n",
       "      <td>2020-11-03 00:00:00</td>\n",
       "    </tr>\n",
       "    <tr>\n",
       "      <th>109989</th>\n",
       "      <td>2020-11-12 00:00:00</td>\n",
       "      <td>8.220245</td>\n",
       "      <td>12.24</td>\n",
       "      <td>36.0</td>\n",
       "      <td>3.0</td>\n",
       "      <td>10.0</td>\n",
       "      <td>36.0</td>\n",
       "      <td>2020-11-12 00:00:00</td>\n",
       "    </tr>\n",
       "  </tbody>\n",
       "</table>\n",
       "<p>6828 rows × 8 columns</p>\n",
       "</div>"
      ],
      "text/plain": [
       "                  location       Basel    Basel.1 Basel.2 Basel.3 Basel.4  \\\n",
       "42927  2013-11-24 15:00:00   5.7602453  33.839996    76.0     0.0    39.0   \n",
       "43080  2013-12-01 00:00:00  -1.0697546      14.04    18.0     0.0     2.0   \n",
       "46224  2014-04-11 00:00:00    8.780245      12.24     0.0     0.0     0.0   \n",
       "46272  2014-04-13 00:00:00   14.300245       14.4    84.0    98.0    84.0   \n",
       "46273  2014-04-13 00:00:00   14.300245       14.4    84.0    98.0    84.0   \n",
       "...                    ...         ...        ...     ...     ...     ...   \n",
       "109197 2020-10-10 00:00:00   13.360246      18.72    72.0     0.0    72.0   \n",
       "109653 2020-10-29 00:00:00   12.530245      34.92    93.0   100.0    93.0   \n",
       "109725 2020-11-01 00:00:00    8.070246      19.44    18.0    25.0    18.0   \n",
       "109773 2020-11-03 00:00:00   16.300245      18.72    78.0     0.0    78.0   \n",
       "109989 2020-11-12 00:00:00    8.220245      12.24    36.0     3.0    10.0   \n",
       "\n",
       "       Basel.5 NWB trains.NWBConfirmedDate  \n",
       "42927     76.0         2013-11-24 15:00:00  \n",
       "43080     18.0         2013-12-01 00:00:00  \n",
       "46224      0.0         2014-04-11 00:00:00  \n",
       "46272     22.0         2014-04-13 00:00:00  \n",
       "46273     22.0         2014-04-13 00:00:00  \n",
       "...        ...                         ...  \n",
       "109197     7.0         2020-10-10 00:00:00  \n",
       "109653    24.0         2020-10-29 00:00:00  \n",
       "109725     0.0         2020-11-01 00:00:00  \n",
       "109773    53.0         2020-11-03 00:00:00  \n",
       "109989    36.0         2020-11-12 00:00:00  \n",
       "\n",
       "[6828 rows x 8 columns]"
      ]
     },
     "execution_count": 177,
     "metadata": {},
     "output_type": "execute_result"
    }
   ],
   "source": [
    "mask = merged_weather_df.notnull().all(axis=1)\n",
    "\n",
    "# Apply the mask to the DataFrame\n",
    "df_filtered = merged_weather_df[mask]\n",
    "df_filtered"
   ]
  },
  {
   "cell_type": "code",
   "execution_count": 191,
   "id": "5ee89962",
   "metadata": {},
   "outputs": [],
   "source": [
    "merged_weather_df['Basel'] = merged_weather_df['Basel'].astype(float)\n",
    "merged_weather_df['Basel.1'] = merged_weather_df['Basel.1'].astype(float)\n",
    "merged_weather_df['Basel.2'] = merged_weather_df['Basel.2'].astype(float)\n",
    "merged_weather_df['Basel.3'] = merged_weather_df['Basel.3'].astype(float)\n",
    "merged_weather_df['Basel.4'] = merged_weather_df['Basel.4'].astype(float)\n",
    "merged_weather_df['Basel.5'] = merged_weather_df['Basel.5'].astype(float)"
   ]
  },
  {
   "cell_type": "code",
   "execution_count": 189,
   "id": "955b2356",
   "metadata": {},
   "outputs": [],
   "source": [
    "# create a new column to depict if train delay was there or not\n",
    "merged_weather_df['train_delay_yn'] = merged_weather_df['NWB trains.NWBConfirmedDate'].notnull()"
   ]
  },
  {
   "cell_type": "code",
   "execution_count": 194,
   "id": "d20dafe7",
   "metadata": {},
   "outputs": [
    {
     "data": {
      "text/html": [
       "<div>\n",
       "<style scoped>\n",
       "    .dataframe tbody tr th:only-of-type {\n",
       "        vertical-align: middle;\n",
       "    }\n",
       "\n",
       "    .dataframe tbody tr th {\n",
       "        vertical-align: top;\n",
       "    }\n",
       "\n",
       "    .dataframe thead th {\n",
       "        text-align: right;\n",
       "    }\n",
       "</style>\n",
       "<table border=\"1\" class=\"dataframe\">\n",
       "  <thead>\n",
       "    <tr style=\"text-align: right;\">\n",
       "      <th></th>\n",
       "      <th>Basel</th>\n",
       "      <th>Basel.1</th>\n",
       "      <th>Basel.2</th>\n",
       "      <th>Basel.3</th>\n",
       "      <th>Basel.4</th>\n",
       "      <th>Basel.5</th>\n",
       "    </tr>\n",
       "    <tr>\n",
       "      <th>train_delay_yn</th>\n",
       "      <th></th>\n",
       "      <th></th>\n",
       "      <th></th>\n",
       "      <th></th>\n",
       "      <th></th>\n",
       "      <th></th>\n",
       "    </tr>\n",
       "  </thead>\n",
       "  <tbody>\n",
       "    <tr>\n",
       "      <th>False</th>\n",
       "      <td>11.530375</td>\n",
       "      <td>19.863133</td>\n",
       "      <td>48.721186</td>\n",
       "      <td>37.171779</td>\n",
       "      <td>35.680005</td>\n",
       "      <td>32.046962</td>\n",
       "    </tr>\n",
       "    <tr>\n",
       "      <th>True</th>\n",
       "      <td>6.085931</td>\n",
       "      <td>19.376572</td>\n",
       "      <td>57.061409</td>\n",
       "      <td>43.074400</td>\n",
       "      <td>48.101640</td>\n",
       "      <td>32.299795</td>\n",
       "    </tr>\n",
       "  </tbody>\n",
       "</table>\n",
       "</div>"
      ],
      "text/plain": [
       "                    Basel    Basel.1    Basel.2    Basel.3    Basel.4  \\\n",
       "train_delay_yn                                                          \n",
       "False           11.530375  19.863133  48.721186  37.171779  35.680005   \n",
       "True             6.085931  19.376572  57.061409  43.074400  48.101640   \n",
       "\n",
       "                  Basel.5  \n",
       "train_delay_yn             \n",
       "False           32.046962  \n",
       "True            32.299795  "
      ]
     },
     "execution_count": 194,
     "metadata": {},
     "output_type": "execute_result"
    }
   ],
   "source": [
    "merged_weather_df.groupby('train_delay_yn')[['Basel','Basel.1','Basel.2','Basel.3','Basel.4','Basel.5']].mean()"
   ]
  },
  {
   "cell_type": "markdown",
   "id": "aff5b8e4",
   "metadata": {},
   "source": [
    "- T-test to see if weather measurements are significant or not"
   ]
  },
  {
   "cell_type": "code",
   "execution_count": 196,
   "id": "1a2c5fdd",
   "metadata": {},
   "outputs": [
    {
     "name": "stdout",
     "output_type": "stream",
     "text": [
      "T-statistic: -53.75471537046111\n",
      "P-value: 0.0\n",
      "Reject the null hypothesis: There is a significant difference between the groups.\n"
     ]
    }
   ],
   "source": [
    "# 1. for temperature parameter\n",
    "import scipy.stats as stats\n",
    "\n",
    "# Example data for two groups\n",
    "group1 = merged_weather_df[merged_weather_df['train_delay_yn'] == True]['Basel']\n",
    "group2 = merged_weather_df[merged_weather_df['train_delay_yn'] == False]['Basel']\n",
    "\n",
    "# Perform independent two-sample t-test\n",
    "t_statistic, p_value = stats.ttest_ind(group1, group2)\n",
    "\n",
    "print(\"T-statistic:\", t_statistic)\n",
    "print(\"P-value:\", p_value)\n",
    "\n",
    "alpha = 0.05  # Set your significance level (commonly 0.05)\n",
    "\n",
    "if p_value < alpha:\n",
    "    print(\"Reject the null hypothesis: There is a significant difference between the groups.\")\n",
    "else:\n",
    "    print(\"Fail to reject the null hypothesis: There is no significant difference between the groups.\")"
   ]
  },
  {
   "cell_type": "code",
   "execution_count": 198,
   "id": "5c866ac6",
   "metadata": {},
   "outputs": [
    {
     "name": "stdout",
     "output_type": "stream",
     "text": [
      "T-statistic: -3.5194789517562697\n",
      "P-value: 0.00043256804306447227\n",
      "Reject the null hypothesis: There is a significant difference between the groups.\n"
     ]
    }
   ],
   "source": [
    "# 2. for wind gust parameter\n",
    "import scipy.stats as stats\n",
    "\n",
    "# Example data for two groups\n",
    "group1 = merged_weather_df[merged_weather_df['train_delay_yn'] == True]['Basel.1']\n",
    "group2 = merged_weather_df[merged_weather_df['train_delay_yn'] == False]['Basel.1']\n",
    "\n",
    "# Perform independent two-sample t-test\n",
    "t_statistic, p_value = stats.ttest_ind(group1, group2)\n",
    "\n",
    "print(\"T-statistic:\", t_statistic)\n",
    "print(\"P-value:\", p_value)\n",
    "\n",
    "alpha = 0.01  # Set your significance level (commonly 0.05)\n",
    "\n",
    "if p_value < alpha:\n",
    "    print(\"Reject the null hypothesis: There is a significant difference between the groups.\")\n",
    "else:\n",
    "    print(\"Fail to reject the null hypothesis: There is no significant difference between the groups.\")"
   ]
  },
  {
   "cell_type": "code",
   "execution_count": 199,
   "id": "657fc5db",
   "metadata": {},
   "outputs": [
    {
     "name": "stdout",
     "output_type": "stream",
     "text": [
      "T-statistic: 19.192210511803466\n",
      "P-value: 5.838960754038762e-82\n",
      "Reject the null hypothesis: There is a significant difference between the groups.\n"
     ]
    }
   ],
   "source": [
    "# 3. for Cloud Cover Total parameter\n",
    "import scipy.stats as stats\n",
    "\n",
    "# Example data for two groups\n",
    "group1 = merged_weather_df[merged_weather_df['train_delay_yn'] == True]['Basel.2']\n",
    "group2 = merged_weather_df[merged_weather_df['train_delay_yn'] == False]['Basel.2']\n",
    "\n",
    "# Perform independent two-sample t-test\n",
    "t_statistic, p_value = stats.ttest_ind(group1, group2)\n",
    "\n",
    "print(\"T-statistic:\", t_statistic)\n",
    "print(\"P-value:\", p_value)\n",
    "\n",
    "alpha = 0.05  # Set your significance level (commonly 0.05)\n",
    "\n",
    "if p_value < alpha:\n",
    "    print(\"Reject the null hypothesis: There is a significant difference between the groups.\")\n",
    "else:\n",
    "    print(\"Fail to reject the null hypothesis: There is no significant difference between the groups.\")"
   ]
  }
 ],
 "metadata": {
  "kernelspec": {
   "display_name": "Python 3 (ipykernel)",
   "language": "python",
   "name": "python3"
  },
  "language_info": {
   "codemirror_mode": {
    "name": "ipython",
    "version": 3
   },
   "file_extension": ".py",
   "mimetype": "text/x-python",
   "name": "python",
   "nbconvert_exporter": "python",
   "pygments_lexer": "ipython3",
   "version": "3.8.13"
  }
 },
 "nbformat": 4,
 "nbformat_minor": 5
}
